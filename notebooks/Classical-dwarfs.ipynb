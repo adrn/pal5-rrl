{
 "cells": [
  {
   "cell_type": "code",
   "execution_count": null,
   "metadata": {},
   "outputs": [],
   "source": [
    "import astropy.coordinates as coord\n",
    "import astropy.table as at\n",
    "import astropy.units as u\n",
    "import matplotlib as mpl\n",
    "import matplotlib.pyplot as plt\n",
    "%matplotlib inline\n",
    "import numpy as np\n",
    "\n",
    "# gala\n",
    "import gala.coordinates as gc\n",
    "import gala.dynamics as gd\n",
    "import gala.potential as gp\n",
    "from gala.units import galactic\n",
    "\n",
    "from pyia import GaiaData"
   ]
  },
  {
   "cell_type": "code",
   "execution_count": null,
   "metadata": {},
   "outputs": [],
   "source": [
    "galcen_frame = coord.Galactocentric(galcen_distance=8.1*u.kpc)"
   ]
  },
  {
   "cell_type": "code",
   "execution_count": null,
   "metadata": {},
   "outputs": [],
   "source": [
    "_tbl = at.Table.read('/Users/apricewhelan/data/GaiaDR2/DR2_AllRRL_outerjoin_PS1_EBV_nocontam.csv.gz', \n",
    "                     format='ascii.csv')\n",
    "_tbl.remove_column('epoch_photometry_url')\n",
    "\n",
    "g = GaiaData(_tbl)\n",
    "g = g[(g.pmra.value != 0.) & \n",
    "      (g.pmdec.value != 0.) & \n",
    "      (g.D_kpc > 0)]\n",
    "c = g.get_skycoord(distance=g.D_kpc*u.kpc)"
   ]
  },
  {
   "cell_type": "code",
   "execution_count": null,
   "metadata": {},
   "outputs": [],
   "source": [
    "galcen = c.transform_to(galcen_frame)"
   ]
  },
  {
   "cell_type": "code",
   "execution_count": null,
   "metadata": {},
   "outputs": [],
   "source": [
    "sag_c = c.transform_to(gc.Sagittarius)"
   ]
  },
  {
   "cell_type": "code",
   "execution_count": null,
   "metadata": {},
   "outputs": [],
   "source": [
    "sag_c = gc.reflex_correct(sag_c)"
   ]
  },
  {
   "cell_type": "code",
   "execution_count": null,
   "metadata": {},
   "outputs": [],
   "source": [
    "fig, ax = plt.subplots(1, 1, figsize=(10, 8))\n",
    "\n",
    "ax.plot(sag_c.Lambda, sag_c.Beta,\n",
    "        marker='o', ms=1.5, ls='none', mew=0, alpha=0.2)"
   ]
  },
  {
   "cell_type": "code",
   "execution_count": null,
   "metadata": {},
   "outputs": [],
   "source": [
    "style = dict(marker='o', ms=1.5, ls='none', mew=0, alpha=0.2)\n",
    "mask = ((np.abs(sag_c.Beta) < 25*u.deg) & \n",
    "        (np.abs(sag_c.pm_Lambda_cosBeta) < 6*u.mas/u.yr) &\n",
    "        (np.abs(sag_c.pm_Beta) < 10*u.mas/u.yr))\n",
    "\n",
    "fig, axes = plt.subplots(3, 1, figsize=(10, 12),\n",
    "                         sharex=True)\n",
    "\n",
    "ax = axes[0]\n",
    "ax.plot(sag_c.Lambda.degree[mask], sag_c.pm_Lambda_cosBeta[mask], **style)\n",
    "ax.set_ylim(-6, 6)\n",
    "\n",
    "ax = axes[1]\n",
    "ax.plot(sag_c.Lambda.degree[mask], sag_c.pm_Beta[mask], **style)\n",
    "ax.set_ylim(-10, 10)\n",
    "\n",
    "ax = axes[2]\n",
    "ax.plot(sag_c.Lambda.degree[mask], sag_c.distance[mask], **style)\n",
    "ax.set_ylim(10, 75)\n",
    "\n",
    "ax.set_xlim(-180, 180)"
   ]
  },
  {
   "cell_type": "markdown",
   "metadata": {},
   "source": [
    "## Play with LMC/SMC"
   ]
  },
  {
   "cell_type": "code",
   "execution_count": null,
   "metadata": {},
   "outputs": [],
   "source": []
  },
  {
   "cell_type": "code",
   "execution_count": null,
   "metadata": {},
   "outputs": [],
   "source": [
    "fig, ax = plt.subplots(1, 1, figsize=(8, 8))\n",
    "\n",
    "mask = np.abs(galcen.y) < 20*u.kpc\n",
    "ax.plot(galcen.x[mask], galcen.z[mask],\n",
    "        marker='o', ls='none', alpha=0.1, linewidth=0)"
   ]
  },
  {
   "cell_type": "code",
   "execution_count": null,
   "metadata": {},
   "outputs": [],
   "source": []
  },
  {
   "cell_type": "code",
   "execution_count": null,
   "metadata": {},
   "outputs": [],
   "source": []
  },
  {
   "cell_type": "code",
   "execution_count": null,
   "metadata": {},
   "outputs": [],
   "source": []
  }
 ],
 "metadata": {
  "kernelspec": {
   "display_name": "Python [conda env:root] *",
   "language": "python",
   "name": "conda-root-py"
  },
  "language_info": {
   "codemirror_mode": {
    "name": "ipython"
   },
   "file_extension": ".py",
   "mimetype": "text/x-python",
   "name": "python",
   "nbconvert_exporter": "python"
  }
 },
 "nbformat": 4,
 "nbformat_minor": 2
}
