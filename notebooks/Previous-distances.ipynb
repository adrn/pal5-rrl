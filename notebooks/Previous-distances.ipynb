{
 "cells": [
  {
   "cell_type": "code",
   "execution_count": 5,
   "metadata": {},
   "outputs": [],
   "source": [
    "import astropy.coordinates as coord\n",
    "import astropy.table as at\n",
    "import astropy.units as u\n",
    "import matplotlib as mpl\n",
    "import matplotlib.pyplot as plt\n",
    "%matplotlib inline\n",
    "import numpy as np\n",
    "import dustmaps"
   ]
  },
  {
   "cell_type": "code",
   "execution_count": 7,
   "metadata": {},
   "outputs": [],
   "source": [
    "from dustmaps.sfd import SFDQuery"
   ]
  },
  {
   "cell_type": "code",
   "execution_count": 33,
   "metadata": {},
   "outputs": [
    {
     "data": {
      "text/plain": [
       "0.17224403843283653"
      ]
     },
     "execution_count": 33,
     "metadata": {},
     "output_type": "execute_result"
    }
   ],
   "source": [
    "c = coord.SkyCoord(ra=229.022, dec=-0.112, unit=u.deg)\n",
    "RV = 3.1\n",
    "AV_sfd = RV * SFDQuery().query(c)\n",
    "AV_sfd"
   ]
  },
  {
   "cell_type": "code",
   "execution_count": 30,
   "metadata": {},
   "outputs": [
    {
     "data": {
      "text/plain": [
       "0.17224403843283653"
      ]
     },
     "execution_count": 30,
     "metadata": {},
     "output_type": "execute_result"
    }
   ],
   "source": [
    "AV_sfd"
   ]
  },
  {
   "cell_type": "markdown",
   "metadata": {},
   "source": [
    "Dotter 2011:"
   ]
  },
  {
   "cell_type": "code",
   "execution_count": 29,
   "metadata": {},
   "outputs": [
    {
     "data": {
      "text/plain": [
       "(<Distance 20.68003133 kpc>,\n",
       " <Distance 22.38721139 kpc>,\n",
       " <Distance 23.98832919 kpc>)"
      ]
     },
     "execution_count": 29,
     "metadata": {},
     "output_type": "execute_result"
    }
   ],
   "source": [
    "DM_dotter = 16.75 - AV_sfd\n",
    "coord.Distance(distmod=DM_dotter), coord.Distance(distmod=16.75), coord.Distance(distmod=16.9)"
   ]
  },
  {
   "cell_type": "markdown",
   "metadata": {},
   "source": [
    "Harris 1996:"
   ]
  },
  {
   "cell_type": "code",
   "execution_count": 28,
   "metadata": {},
   "outputs": [
    {
     "data": {
      "text/plain": [
       "(<Distance 22.80342072 kpc>, <Distance 21.06450181 kpc>)"
      ]
     },
     "execution_count": 28,
     "metadata": {},
     "output_type": "execute_result"
    }
   ],
   "source": [
    "coord.Distance(distmod=16.79), coord.Distance(distmod=16.79 - AV_sfd)"
   ]
  },
  {
   "cell_type": "code",
   "execution_count": 34,
   "metadata": {},
   "outputs": [
    {
     "data": {
      "text/latex": [
       "$23.550493 \\; \\mathrm{kpc}$"
      ],
      "text/plain": [
       "<Distance 23.55049284 kpc>"
      ]
     },
     "execution_count": 34,
     "metadata": {},
     "output_type": "execute_result"
    }
   ],
   "source": [
    "coord.Distance(distmod=16.86) # uncorrected other?"
   ]
  },
  {
   "cell_type": "markdown",
   "metadata": {},
   "source": [
    "---"
   ]
  },
  {
   "cell_type": "code",
   "execution_count": 50,
   "metadata": {},
   "outputs": [
    {
     "data": {
      "text/latex": [
       "$21.208251 \\; \\mathrm{kpc}$"
      ],
      "text/plain": [
       "<Distance 21.20825141 kpc>"
      ]
     },
     "execution_count": 50,
     "metadata": {},
     "output_type": "execute_result"
    }
   ],
   "source": [
    "FeH = -1.35\n",
    "M_V = 0.34 * FeH + 1.17\n",
    "coord.Distance(distmod=coord.Distance(22.3*u.kpc).distmod - (0.23 + 0.59 - M_V)*u.mag)"
   ]
  },
  {
   "cell_type": "code",
   "execution_count": 54,
   "metadata": {},
   "outputs": [
    {
     "data": {
      "text/plain": [
       "(<Distance 21.20485808 kpc>, <Distance 0.5562122 kpc>)"
      ]
     },
     "execution_count": 54,
     "metadata": {},
     "output_type": "execute_result"
    }
   ],
   "source": [
    "MV_RRL = coord.Distance(21.2*u.kpc).distmod.value\n",
    "derp = coord.Distance(distmod=np.random.normal(MV_RRL, \n",
    "                                               np.sqrt(0.04**2 + (0.03*FeH)**2), \n",
    "                                               size=10000))\n",
    "np.mean(derp), np.std(derp)"
   ]
  },
  {
   "cell_type": "code",
   "execution_count": null,
   "metadata": {},
   "outputs": [],
   "source": []
  }
 ],
 "metadata": {
  "kernelspec": {
   "display_name": "Python [conda env:root] *",
   "language": "python",
   "name": "conda-root-py"
  },
  "language_info": {
   "codemirror_mode": {
    "name": "ipython",
    "version": 3
   },
   "file_extension": ".py",
   "mimetype": "text/x-python",
   "name": "python",
   "nbconvert_exporter": "python",
   "pygments_lexer": "ipython3",
   "version": "3.7.3"
  }
 },
 "nbformat": 4,
 "nbformat_minor": 2
}
