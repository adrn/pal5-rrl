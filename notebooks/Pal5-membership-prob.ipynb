{
 "cells": [
  {
   "cell_type": "code",
   "execution_count": null,
   "metadata": {},
   "outputs": [],
   "source": [
    "import sys\n",
    "import os\n",
    "from os import path\n",
    "_tmp = os.path.abspath('../../pal5s-biggest-fan/notebooks')\n",
    "if _tmp not in sys.path:\n",
    "    sys.path.append(_tmp)\n",
    "\n",
    "import pickle\n",
    "\n",
    "import emcee\n",
    "import corner\n",
    "import numpy as np\n",
    "import matplotlib as mpl\n",
    "import matplotlib.pyplot as plt\n",
    "%matplotlib inline\n",
    "\n",
    "import astropy.coordinates as coord\n",
    "from astropy.coordinates.matrix_utilities import rotation_matrix\n",
    "from astropy.table import Table, vstack, join\n",
    "from astropy.io import fits, ascii\n",
    "import astropy.units as u\n",
    "from astroML.utils import log_multivariate_gaussian\n",
    "from scipy.optimize import minimize\n",
    "from scipy.special import logsumexp\n",
    "from xdgmm import XDGMM\n",
    "from schwimmbad import MultiPool\n",
    "from tqdm import trange\n",
    "\n",
    "import gala.coordinates as gc\n",
    "import gala.dynamics as gd\n",
    "import gala.potential as gp\n",
    "import gala.mpl_style\n",
    "\n",
    "from pyia import GaiaData\n",
    "\n",
    "galcen_frame = coord.Galactocentric(galcen_distance=8.1*u.kpc)"
   ]
  },
  {
   "cell_type": "code",
   "execution_count": null,
   "metadata": {},
   "outputs": [],
   "source": [
    "ra_lim = (215, 255) * u.deg\n",
    "dec_lim = (-15, 10) * u.deg\n",
    "dist_lim = 35. * u.kpc"
   ]
  },
  {
   "cell_type": "code",
   "execution_count": null,
   "metadata": {},
   "outputs": [],
   "source": [
    "globs = Table.read('/Users/apricewhelan/data/Misc/Vasiliev-globclust.txt', format='ascii.fixed_width')\n",
    "skip_globs = globs[(globs['RA'] > ra_lim[0].value) & (globs['RA'] < ra_lim[1].value) & \n",
    "                   (globs['DEC'] > dec_lim[0].value) & (globs['DEC'] < dec_lim[1].value) &\n",
    "                   (globs['Name'] != 'Pal 5')]\n",
    "vasiliev_pal5 = globs[globs['Name'] == 'Pal 5']"
   ]
  },
  {
   "cell_type": "code",
   "execution_count": null,
   "metadata": {},
   "outputs": [],
   "source": [
    "vasiliev_pal5"
   ]
  },
  {
   "cell_type": "code",
   "execution_count": null,
   "metadata": {},
   "outputs": [],
   "source": [
    "vasiliev_pal5_c = coord.SkyCoord(ra=vasiliev_pal5['RA']*u.deg,\n",
    "                                 dec=vasiliev_pal5['DEC']*u.deg,\n",
    "                                 pm_ra_cosdec=vasiliev_pal5['PMRA']*u.mas/u.yr,\n",
    "                                 pm_dec=vasiliev_pal5['PMDEC']*u.mas/u.yr)\n",
    "vasiliev_pal5_c = vasiliev_pal5_c.transform_to(gc.Pal5)[0]"
   ]
  },
  {
   "cell_type": "code",
   "execution_count": null,
   "metadata": {},
   "outputs": [],
   "source": [
    "def skip_mask(ra, dec):\n",
    "    c1 = coord.SkyCoord(ra, dec)\n",
    "    c2 = coord.SkyCoord(skip_globs['RA']*u.deg, skip_globs['DEC']*u.deg)\n",
    "    \n",
    "    mask = np.ones(len(ra), dtype=bool)\n",
    "    for c in c2:\n",
    "        mask &= c1.separation(c) > 0.5*u.deg\n",
    "    \n",
    "    return mask"
   ]
  },
  {
   "cell_type": "code",
   "execution_count": null,
   "metadata": {},
   "outputs": [],
   "source": [
    "sky_path = Table.read('../../pal5s-biggest-fan/data/pal5_skypath_icrs.txt', \n",
    "                      format='ascii.basic', names=['ra', 'dec'])\n",
    "_path = mpl.path.Path(np.stack((sky_path['ra'], sky_path['dec'])).T)"
   ]
  },
  {
   "cell_type": "markdown",
   "metadata": {},
   "source": [
    "### Load data"
   ]
  },
  {
   "cell_type": "code",
   "execution_count": null,
   "metadata": {},
   "outputs": [],
   "source": [
    "_tbl = Table.read('../data/PS1+SOS.gdr2.newDps1.C10QUESTIDs.csv.gz',\n",
    "                  format='ascii.csv')\n",
    "\n",
    "_tbl.rename_column('ra_1', 'ra')\n",
    "_tbl.rename_column('dec_1', 'dec')"
   ]
  },
  {
   "cell_type": "code",
   "execution_count": null,
   "metadata": {},
   "outputs": [],
   "source": [
    "g_stream = GaiaData('../data/pal5_rrls_inside_canonical_footprint.D18_25_pm_cuts.csv')\n",
    "g_stream = g_stream[(g_stream.pmra.value != 0.) & (g_stream.pmdec.value != 0.)]\n",
    "\n",
    "g_all = GaiaData(_tbl)\n",
    "g_all = g_all[(g_all.ra > ra_lim[0]) & (g_all.ra < ra_lim[1]) &\n",
    "              (g_all.dec > dec_lim[0]) & (g_all.dec < dec_lim[1]) &\n",
    "              skip_mask(g_all.ra, g_all.dec) & \n",
    "              np.isfinite(g_all.pmra) & np.isfinite(g_all.pmdec) &\n",
    "              (g_all.pmra.value != 0.) & (g_all.pmdec.value != 0.) & \n",
    "              (g_all.D_ps1 > 0) & \n",
    "              (g_all.D_kpc < dist_lim.value)] \n",
    "c_all = g_all.get_skycoord(distance=g_all.D_ps1*u.kpc)\n",
    "\n",
    "g_nostream = GaiaData('../data/rrls_in_pal5_bkg.m5_ngc5634_removed.csv')\n",
    "g_nostream = g_nostream[skip_mask(g_nostream.ra, g_nostream.dec) & \n",
    "                        (g_nostream.pmra.value != 0.) & (g_nostream.pmdec.value != 0.) & \n",
    "                        (g_nostream.D_ps1 > 0) & \n",
    "                        (g_nostream.D_kpc < dist_lim.value)]\n",
    "c_nostream = g_nostream.get_skycoord(distance=g_nostream.D_ps1*u.kpc)\n",
    "c_nostream_pal5 = c_nostream.transform_to(gc.Pal5)\n",
    "\n",
    "stream_sky_mask = _path.contains_points(np.stack((g_all.ra.value, \n",
    "                                                  g_all.dec.value)).T)\n",
    "g_stream_track = g_all[stream_sky_mask]\n",
    "c_stream_track = g_stream_track.get_skycoord(distance=g_stream_track.D_ps1*u.kpc)\n",
    "\n",
    "len(g_all), len(g_stream_track), len(g_nostream)"
   ]
  },
  {
   "cell_type": "code",
   "execution_count": null,
   "metadata": {},
   "outputs": [],
   "source": [
    "plt.figure()\n",
    "plt.plot(g_nostream.ra, g_nostream.pmdec, \n",
    "         ls='none', marker='o', mew=0, ms=1.5)\n",
    "plt.ylim(-25, 10)\n",
    "\n",
    "plt.figure()\n",
    "plt.plot(g_nostream.ra, g_nostream.pmra, \n",
    "         ls='none', marker='o', mew=0, ms=1.5)\n",
    "plt.ylim(-25, 10)\n",
    "\n",
    "plt.figure()\n",
    "plt.plot(g_nostream.ra, g_nostream.D_ps1, \n",
    "         ls='none', marker='o', mew=0, ms=1.5)\n",
    "plt.ylim(0, 35)"
   ]
  },
  {
   "cell_type": "code",
   "execution_count": null,
   "metadata": {},
   "outputs": [],
   "source": [
    "t1 = Table.read('/Users/apricewhelan/data/Streams/Pal5/Odenkirchen2009_gaia.csv')\n",
    "t2 = Table.read('/Users/apricewhelan/data/Streams/Pal5/Odenkirchen2002_gaia.csv')\n",
    "t1.remove_columns(['epoch_photometry_url', 'astrometric_primary_flag', 'duplicated_source'])\n",
    "t2.remove_columns(['epoch_photometry_url', 'astrometric_primary_flag', 'duplicated_source'])\n",
    "g_oden = GaiaData(vstack((t1, t2)))\n",
    "g_oden = g_oden[(g_oden.vr_a > -80) & (g_oden.vr_a < -20) & (g_oden.pmra > -5*u.mas/u.yr)]\n",
    "g_oden = g_oden[(g_oden.vr_a > -66) & (g_oden.vr_a < -50) & (g_oden.ra < 232*u.deg)]\n",
    "g_oden.data['D_kpc'] = 21. # HACK\n",
    "g_oden.data['D_ps1'] = 21. # HACK\n",
    "# TODO: could xmatch to starhorse to get distances for the RGB stars...or fit my own"
   ]
  },
  {
   "cell_type": "code",
   "execution_count": null,
   "metadata": {},
   "outputs": [],
   "source": [
    "g_merged = GaiaData(vstack((g_all.data, g_oden.data)))\n",
    "\n",
    "merged_sky_mask = _path.contains_points(np.stack((g_merged.ra.value, \n",
    "                                                  g_merged.dec.value)).T)"
   ]
  },
  {
   "cell_type": "code",
   "execution_count": null,
   "metadata": {},
   "outputs": [],
   "source": [
    "stream_sky_mask = _path.contains_points(np.stack((g_merged.ra.value, \n",
    "                                                  g_merged.dec.value)).T)\n",
    "stream_sky_mask.sum()"
   ]
  },
  {
   "cell_type": "code",
   "execution_count": null,
   "metadata": {},
   "outputs": [],
   "source": [
    "fig, axes = plt.subplots(4, 1, figsize=(8, 10), sharex=True)\n",
    "\n",
    "axes[0].errorbar(g_stream.ra.value, g_stream.pmra.value,\n",
    "                 yerr=g_stream.pmra_error.value, \n",
    "                 ls='none', marker='o')\n",
    "axes[0].errorbar(g_oden.ra.value, g_oden.pmra.value,\n",
    "                 yerr=g_oden.pmra_error.value, \n",
    "                 ls='none', marker='o')\n",
    "\n",
    "axes[1].errorbar(g_stream.ra.value, g_stream.pmdec.value,\n",
    "                 yerr=g_stream.pmdec_error.value, \n",
    "                 ls='none', marker='o')\n",
    "axes[1].errorbar(g_oden.ra.value, g_oden.pmdec.value,\n",
    "                 yerr=g_oden.pmdec_error.value, \n",
    "                 ls='none', marker='o')\n",
    "\n",
    "# axes[2].errorbar(g_stream.ra.value, g_stream.pmdec.value,\n",
    "#                  yerr=g_stream.pmdec_error.value, \n",
    "#                  ls='none', marker='o')\n",
    "axes[2].errorbar(g_oden.ra.value, g_oden.vr_a,\n",
    "                 yerr=g_oden.vr_a_err, \n",
    "                 ls='none', marker='o', \n",
    "                 color='tab:blue')\n",
    "\n",
    "axes[3].errorbar(g_stream.ra.value, g_stream.D_kpc,\n",
    "                 yerr=0.03 * g_stream.D_kpc, \n",
    "                 ls='none', marker='o')\n",
    "# axes[3].errorbar(g_oden.ra.value, g_oden.D_kpc,\n",
    "#                  yerr=0.08 * g_oden.D_kpc, \n",
    "#                  ls='none', marker='o')\n",
    "\n",
    "axes[0].set_xlim(250, 215)\n",
    "\n",
    "axes[0].set_ylabel(r'$\\mu_\\alpha$')\n",
    "axes[1].set_ylabel(r'$\\mu_\\delta$')\n",
    "axes[2].set_ylabel(r'$v_r$')\n",
    "axes[3].set_ylabel(r'$D$ [kpc]')\n",
    "axes[-1].set_xlabel('RA [deg]')\n",
    "\n",
    "fig.set_facecolor('w')\n",
    "fig.tight_layout()"
   ]
  },
  {
   "cell_type": "code",
   "execution_count": null,
   "metadata": {},
   "outputs": [],
   "source": [
    "c_stream = g_stream.get_skycoord(distance=g_stream.D_kpc*u.kpc)\n",
    "c_oden = g_oden.get_skycoord(distance=False)\n",
    "\n",
    "c_stream = c_stream.transform_to(gc.Pal5)\n",
    "c_oden = c_oden.transform_to(gc.Pal5)"
   ]
  },
  {
   "cell_type": "code",
   "execution_count": null,
   "metadata": {},
   "outputs": [],
   "source": [
    "fig, axes = plt.subplots(1, 2, figsize=(10, 5), \n",
    "                         sharex=True, sharey=True)\n",
    "\n",
    "axes[0].scatter(g_stream.pmra.value, g_stream.pmdec.value,\n",
    "                c=g_stream.ra.value)\n",
    "axes[0].errorbar(g_stream.pmra.value, g_stream.pmdec.value,\n",
    "                 xerr=g_stream.pmra_error.value,\n",
    "                 yerr=g_stream.pmdec_error.value,\n",
    "                 marker='', ls='', zorder=-100, ecolor='#aaaaaa')\n",
    "\n",
    "axes[1].scatter(g_oden.pmra.value, g_oden.pmdec.value,\n",
    "                c=g_oden.ra.value)\n",
    "axes[1].errorbar(g_oden.pmra.value, g_oden.pmdec.value,\n",
    "                 xerr=g_oden.pmra_error.value,\n",
    "                 yerr=g_oden.pmdec_error.value,\n",
    "                 marker='', ls='', zorder=-100, ecolor='#aaaaaa')\n",
    "\n",
    "axes[0].set_xlim(-3.7, -2.0)\n",
    "axes[0].set_ylim(-3.5, -1.5)"
   ]
  },
  {
   "cell_type": "code",
   "execution_count": null,
   "metadata": {},
   "outputs": [],
   "source": [
    "fig, axes = plt.subplots(1, 2, figsize=(10, 5.2), \n",
    "                         sharex=True, sharey=True)\n",
    "\n",
    "ax = axes[0]\n",
    "# _d_mask = np.abs(g_all.D_kpc - 22.) < 5\n",
    "_d_mask = np.abs(g_all.D_ps1 - 22.) < 5\n",
    "ax.plot(g_all.pmra.value[_d_mask], \n",
    "        g_all.pmdec.value[_d_mask],\n",
    "        marker='o', ls='', ms=1.5, alpha=1.)\n",
    "ax.set_title('all w/ dist cut')\n",
    "\n",
    "ax = axes[1]\n",
    "_d_mask = np.abs(g_nostream.D_kpc - 22.) < 5\n",
    "ax.plot(g_nostream.pmra.value[_d_mask], \n",
    "        g_nostream.pmdec.value[_d_mask],\n",
    "        marker='o', ls='', ms=1.5, alpha=1.)\n",
    "ax.set_title('excluding pal5 footprint')\n",
    "\n",
    "ax.set_xlim(-5, 5)\n",
    "ax.set_ylim(-5, 5)\n",
    "\n",
    "axes[0].set_xlabel(r'$\\mu_\\alpha$')\n",
    "axes[0].set_ylabel(r'$\\mu_\\delta$')\n",
    "axes[1].set_xlabel(r'$\\mu_\\alpha$')\n",
    "\n",
    "fig.set_facecolor('w')\n",
    "fig.tight_layout()"
   ]
  },
  {
   "cell_type": "code",
   "execution_count": null,
   "metadata": {},
   "outputs": [],
   "source": [
    "# huh = g_all[(np.abs(g_all.D_kpc - 22.) < 5) & \n",
    "#             (np.abs(g_all.pmra.value - 2) < 1) & \n",
    "#             (np.abs(g_all.pmdec.value - -1) < 1)]\n",
    "# plt.scatter(huh.ra, huh.dec)\n",
    "# plt.xlim(250, 215)\n",
    "# plt.ylim(-10, 10)"
   ]
  },
  {
   "cell_type": "code",
   "execution_count": null,
   "metadata": {},
   "outputs": [],
   "source": [
    "X = np.stack((c_nostream_pal5.pm_phi1_cosphi2.value, \n",
    "              c_nostream_pal5.pm_phi2.value,\n",
    "              g_nostream.D_ps1)).T\n",
    "C_pm = gc.transform_pm_cov(c_nostream, g_nostream.get_cov()[:, 3:5, 3:5], gc.Pal5)\n",
    "\n",
    "C = np.zeros((C_pm.shape[0], 3, 3))\n",
    "C[:, :2, :2] = C_pm\n",
    "C[:, 2, 2] = (0.08 * X[:, 2]) ** 2"
   ]
  },
  {
   "cell_type": "code",
   "execution_count": null,
   "metadata": {},
   "outputs": [],
   "source": [
    "plt.hist(X[:, 2], bins=64);"
   ]
  },
  {
   "cell_type": "code",
   "execution_count": null,
   "metadata": {},
   "outputs": [],
   "source": [
    "# xdgmm = XDGMM()\n",
    "\n",
    "# param_range = np.arange(5, 10+1, 1)\n",
    "\n",
    "# # Loop over component numbers, fitting XDGMM model and computing the BIC:\n",
    "# bic, optimal_n_comp, lowest_bic = xdgmm.bic_test(X, C, param_range)\n",
    "\n",
    "# fig, ax = plt.subplots(1, 1, figsize=(6, 6))\n",
    "# ax.plot(param_range, bic, marker='', drawstyle='steps-mid')\n",
    "\n",
    "# See BIC stuff above\n",
    "optimal_n_comp = 6"
   ]
  },
  {
   "cell_type": "markdown",
   "metadata": {},
   "source": [
    "### GMM / XD"
   ]
  },
  {
   "cell_type": "code",
   "execution_count": null,
   "metadata": {},
   "outputs": [],
   "source": [
    "gmm_cache_file = 'bg_gmm_pal5.pkl'\n",
    "if not os.path.exists(gmm_cache_file): # or True:\n",
    "    gmm = XDGMM(n_components=optimal_n_comp, tol=1e-8, n_iter=2048, method='Bovy')\n",
    "    _ = gmm.fit(X, C)\n",
    "    with open(gmm_cache_file, 'wb') as f:\n",
    "        pickle.dump(gmm, f)\n",
    "else:\n",
    "    with open(gmm_cache_file, 'rb') as f:\n",
    "        gmm = pickle.load(f)"
   ]
  },
  {
   "cell_type": "code",
   "execution_count": null,
   "metadata": {},
   "outputs": [],
   "source": [
    "faster_gmm = XDGMM(n_components=gmm.n_components, \n",
    "                   mu=gmm.mu, V=gmm.V, weights=gmm.weights, \n",
    "                   method='Bovy')"
   ]
  },
  {
   "cell_type": "code",
   "execution_count": null,
   "metadata": {},
   "outputs": [],
   "source": [
    "X_sample = gmm.sample(size=len(g_all))"
   ]
  },
  {
   "cell_type": "code",
   "execution_count": null,
   "metadata": {},
   "outputs": [],
   "source": [
    "g_merged = GaiaData(vstack((g_all.data, g_oden.data)))\n",
    "merged_c = g_merged.get_skycoord(distance=g_merged.D_ps1*u.kpc)\n",
    "merged_c_pal5 = merged_c.transform_to(gc.Pal5)\n",
    "\n",
    "# X_all = np.stack((g_all.pmra.value, g_all.pmdec.value, g_all.D_ps1)).T\n",
    "X_all = np.stack((merged_c_pal5.pm_phi1_cosphi2.value, \n",
    "                  merged_c_pal5.pm_phi2.value, \n",
    "                  merged_c_pal5.distance.value)).T\n",
    "C_pm = g_merged.get_cov()[:, 3:5, 3:5]\n",
    "C_all = np.zeros((C_pm.shape[0], 3, 3))\n",
    "C_all[:, :2, :2] = gc.transform_pm_cov(merged_c, C_pm, gc.Pal5PriceWhelan18)\n",
    "C_all[:len(g_all), 2, 2] = (0.03 * X_all[:len(g_all), 2]) ** 2\n",
    "C_all[len(g_all):, 2, 2] = 10 ** 2  # RGB\n",
    "\n",
    "# X_oden = np.stack((g_oden.pmra.value, g_oden.pmdec.value, np.full(len(g_oden), 22.5))).T\n",
    "# _C = g_oden.get_cov()[:, 3:5, 3:5]\n",
    "# C_oden = np.zeros((_C.shape[0], 3, 3))\n",
    "# C_oden[:, :2, :2] = _C\n",
    "# C_oden[:, 2, 2] = 8. ** 2\n",
    "\n",
    "# XX = np.vstack((X_all, X_oden))\n",
    "# CC = np.vstack((C_all, C_oden))\n",
    "\n",
    "XX = X_all\n",
    "CC = C_all\n",
    "\n",
    "phi1_0 = 0.\n",
    "dphi1 = merged_c_pal5.phi1.degree - phi1_0"
   ]
  },
  {
   "cell_type": "code",
   "execution_count": null,
   "metadata": {},
   "outputs": [],
   "source": [
    "_, bib, _ = plt.hist(X_sample[:, 2], bins=64);\n",
    "plt.hist(X_all[:, 2], bins=bib, alpha=0.5);"
   ]
  },
  {
   "cell_type": "code",
   "execution_count": null,
   "metadata": {},
   "outputs": [],
   "source": [
    "fig, axes = plt.subplots(1, 3, figsize=(15, 5), \n",
    "                         sharex=True, sharey=True)\n",
    "\n",
    "ax = axes[0]\n",
    "ax.plot(X[:, 0], X[:, 1],\n",
    "        marker='o', ls='', ms=1.5, alpha=0.5)\n",
    "\n",
    "ax = axes[1]\n",
    "ax.plot(X_sample[:, 0], X_sample[:, 1],\n",
    "        marker='o', ls='', ms=1.5, alpha=0.5)\n",
    "\n",
    "ax = axes[2]\n",
    "ax.plot(X_all[:, 0],\n",
    "        X_all[:, 1],\n",
    "        marker='o', ls='', ms=1.5, alpha=0.5)\n",
    "\n",
    "ax.set_xlim(0, 10)\n",
    "ax.set_ylim(-5, 5)\n",
    "\n",
    "# --\n",
    "\n",
    "fig, axes = plt.subplots(1, 3, figsize=(15, 5), \n",
    "                         sharex=True, sharey=True)\n",
    "\n",
    "ax = axes[0]\n",
    "ax.plot(X[np.abs(X[:,2]-22)<4, 0], \n",
    "        X[np.abs(X[:,2]-22)<4, 1],\n",
    "        marker='o', ls='', ms=2.5, alpha=1)\n",
    "\n",
    "ax = axes[1]\n",
    "ax.plot(X_sample[np.abs(X_sample[:,2]-22)<4, 0], \n",
    "        X_sample[np.abs(X_sample[:,2]-22)<4, 1],\n",
    "        marker='o', ls='', ms=2.5, alpha=1)\n",
    "\n",
    "ax = axes[2]\n",
    "ax.plot(X_all[:, 0][np.abs(X_all[:, 2]-22)<4], \n",
    "        X_all[:, 1][np.abs(X_all[:, 2]-22)<4],\n",
    "        marker='o', ls='', ms=2.5, alpha=1)\n",
    "ax.scatter(vasiliev_pal5_c.pm_phi1_cosphi2, \n",
    "           vasiliev_pal5_c.pm_phi2, \n",
    "           color='tab:red', zorder=100)\n",
    "\n",
    "ax.set_xlim(0, 10)\n",
    "ax.set_ylim(-5, 5)"
   ]
  },
  {
   "cell_type": "markdown",
   "metadata": {},
   "source": [
    "### Model specification"
   ]
  },
  {
   "cell_type": "code",
   "execution_count": null,
   "metadata": {},
   "outputs": [],
   "source": [
    "# from fitting to model\n",
    "model_pm1_coeffs = np.array([1.64332475e-03, 3.11068762e-02, 3.07719668e+00])\n",
    "model_pm2_coeffs = np.array([0.00083942, 0.03776296, 0.64002269])\n",
    "model_dist_coeffs = np.array([-1.01983328e-02, -1.91206970e-01,  2.24739655e+01])"
   ]
  },
  {
   "cell_type": "code",
   "execution_count": null,
   "metadata": {},
   "outputs": [],
   "source": [
    "def ln_normal(x, mu, var):\n",
    "    return -0.5*np.log(2*np.pi) - 0.5*np.log(var) - 0.5 * (x-mu)**2 / var\n",
    "\n",
    "# Quadratic stream track:\n",
    "def ln_prior(p):\n",
    "    (pm1, pm2, dist, \n",
    "     b_pm1, b_pm2, b_dist, \n",
    "     c_pm1, c_pm2, c_dist,\n",
    "     x_pm1, x_pm2, x_dist,\n",
    "     lnf) = p\n",
    "    \n",
    "    lp = 0\n",
    "    \n",
    "    for x in [pm1, pm2]:\n",
    "        if not -5 < x < 5:\n",
    "            return -np.inf\n",
    "    \n",
    "    # all have negative curvature\n",
    "    # for c in [c_pm1, c_pm2, c_dist]:\n",
    "    #     if c > 0:\n",
    "    #         return -np.inf\n",
    "    for b in [b_pm1, b_pm2, b_dist]:\n",
    "        lp += ln_normal(b, 0, 1e-2)\n",
    "    for c in [c_pm1, c_pm2, c_dist]:\n",
    "        lp += ln_normal(c, 0, 1e-3)\n",
    "    for x in [x_pm1, x_pm2, x_dist]:\n",
    "        # lp += ln_normal(x, 0, 8)\n",
    "        if not -20 < x < 5:\n",
    "            return -np.inf\n",
    "    \n",
    "    lp += ln_normal(pm1, vasiliev_pal5_c.pm_phi1_cosphi2.value, 0.1) # Vasiliev\n",
    "    lp += ln_normal(pm2, vasiliev_pal5_c.pm_phi2.value, 0.1) # Vasiliev\n",
    "    lp += ln_normal(dist, 21.1, 1.) # me\n",
    "    \n",
    "    # uniform in f\n",
    "    lp += lnf\n",
    "    if lnf > 0:\n",
    "        return -np.inf\n",
    "    \n",
    "    return lp\n",
    "\n",
    "def ln_likelihood(p, gmm, X, Cov, dphi1, bg_prob):\n",
    "    (pm1, pm2, dist, \n",
    "     b_pm1, b_pm2, b_dist, \n",
    "     c_pm1, c_pm2, c_dist,\n",
    "     x_pm1, x_pm2, x_dist,\n",
    "     lnf) = p\n",
    "    f = np.exp(lnf)\n",
    "    \n",
    "    # mu = np.array([[pmra, pmdec, dist]])\n",
    "    mu = np.zeros_like(X)\n",
    "    mu[:, 0] = pm1 + b_pm1 * (dphi1 - x_pm1) + c_pm1 * (dphi1 - x_pm1)**2\n",
    "    mu[:, 1] = pm2 + b_pm2 * (dphi1 - x_pm2) + c_pm2 * (dphi1 - x_pm2)**2\n",
    "    mu[:, 2] = dist + b_dist * (dphi1 - x_dist) + c_dist * (dphi1 - x_dist)**2 \n",
    "    V = np.diag([0.02, 0.02, 0.5]) ** 2 # HACK: MAGIC NUMBERs\n",
    "    \n",
    "    T = Cov + V\n",
    "    logproba = log_multivariate_gaussian(X, mu, T)\n",
    "    \n",
    "    ll1 = bg_prob + np.log(1-f)\n",
    "    ll2 = logproba + np.log(f)\n",
    "    \n",
    "    return np.logaddexp(ll1, ll2).sum(), (ll1, ll2)\n",
    "\n",
    "def ln_posterior(p, gmm, X, Cov, dphi1, bg_prob, null_blob, blobs=True):\n",
    "    lnp = ln_prior(p)\n",
    "    if not np.isfinite(lnp):\n",
    "        if blobs:\n",
    "            return -np.inf, null_blob\n",
    "        else:\n",
    "            return -np.inf\n",
    "\n",
    "    lnl, blob = ln_likelihood(p, gmm, X, Cov, dphi1, bg_prob)\n",
    "    if not np.isfinite(lnl):\n",
    "        if blobs:\n",
    "            return -np.inf, null_blob\n",
    "        else:\n",
    "            return -np.inf\n",
    "    \n",
    "    if blobs:\n",
    "        return lnp + lnl, blob\n",
    "    else:\n",
    "        return lnp + lnl"
   ]
  },
  {
   "cell_type": "code",
   "execution_count": null,
   "metadata": {},
   "outputs": [],
   "source": [
    "filename = 'membership_samples-quadrat-in-track-pm12.pkl'\n",
    "continue_ = False\n",
    "\n",
    "# QUADRATIC MODEL:\n",
    "p0 = [vasiliev_pal5_c.pm_phi1_cosphi2.value, vasiliev_pal5_c.pm_phi2.value, 21.10097608, \n",
    "      model_pm1_coeffs[1], model_pm2_coeffs[1], model_dist_coeffs[1],\n",
    "      model_pm1_coeffs[0], model_pm2_coeffs[0], model_dist_coeffs[0], \n",
    "      -0.1, -10, -0.1,\n",
    "      -1.5]\n",
    "#     res = minimize(lambda *args, **kwargs: -ln_likelihood(*args, **kwargs)[0],\n",
    "#                    x0=p0, args=(faster_gmm, XX, CC, dphi1, bg_prob), method='L-BFGS-B')\n",
    "#     x = res.x\n",
    "x = p0\n",
    "# print('done optimize', x)\n",
    "\n",
    "null_blob = (np.full(len(XX[stream_sky_mask]), -np.inf), \n",
    "             np.full(len(XX[stream_sky_mask]), -np.inf))\n",
    "bg_prob = logsumexp(gmm.logprob_a(XX, CC), axis=-1)\n",
    "\n",
    "nwalkers = 8 * len(x)\n",
    "if path.exists(filename):\n",
    "    with open(filename, 'rb') as f:\n",
    "        # sampler, blobs = pickle.load(f)\n",
    "        sampler = pickle.load(f)\n",
    "    # p0 = chain[:, -1]\n",
    "    pre_loaded = True\n",
    "\n",
    "else:\n",
    "    p0 = emcee.utils.sample_ball(x, 1e-3 * np.abs(x), size=nwalkers)\n",
    "    pre_loaded = False\n",
    "    \n",
    "    \n",
    "if not path.exists(filename) or continue_:\n",
    "    with MultiPool() as pool:\n",
    "        sampler = emcee.EnsembleSampler(nwalkers, len(x), ln_posterior,\n",
    "                                        args=(faster_gmm, XX[stream_sky_mask], CC[stream_sky_mask], dphi1[stream_sky_mask], \n",
    "                                              bg_prob[stream_sky_mask], null_blob, False),\n",
    "                                        pool=pool)\n",
    "        \n",
    "        if pre_loaded:\n",
    "            pos = p0\n",
    "            \n",
    "        else:\n",
    "            pos, prob, state = sampler.run_mcmc(p0, 1024, progress=True)\n",
    "            print('done initialization')\n",
    "\n",
    "            pos0 = emcee.utils.sample_ball(np.median(pos, axis=0), \n",
    "                                           1e-3 * np.abs(x), \n",
    "                                           size=nwalkers)\n",
    "            sampler.reset()\n",
    "            pos, prob, state = sampler.run_mcmc(pos0, 1024, progress=True)\n",
    "            print('done burn-in')\n",
    "        \n",
    "            sampler.reset()\n",
    "            \n",
    "        pos, prob, state = sampler.run_mcmc(pos, 131072, progress=True)\n",
    "    \n",
    "    sampler.lnprobfn = None\n",
    "    sampler.pool = None\n",
    "    with open(filename, 'wb') as f:\n",
    "        # pickle.dump((sampler, blobs), f)\n",
    "        # pickle.dump(sampler.chain, f)\n",
    "        pickle.dump(sampler, f)\n",
    "    \n",
    "else:\n",
    "    with open(filename, 'rb') as f:\n",
    "        # sampler, blobs = pickle.load(f)\n",
    "        # chain = pickle.load(f)\n",
    "        sampler = pickle.load(f)"
   ]
  },
  {
   "cell_type": "code",
   "execution_count": null,
   "metadata": {},
   "outputs": [],
   "source": [
    "for k in range(sampler.ndim):\n",
    "    fig = plt.figure()\n",
    "    plt.plot(sampler.chain[..., k].T, \n",
    "             marker='', color='k', \n",
    "             drawstyle='steps-mid', alpha=0.1, lw=0.5)\n",
    "    \n",
    "    plt.axhline(np.median(sampler.chain[:, -1, k], axis=0))"
   ]
  },
  {
   "cell_type": "code",
   "execution_count": null,
   "metadata": {},
   "outputs": [],
   "source": [
    "# acor = sampler.acor"
   ]
  },
  {
   "cell_type": "code",
   "execution_count": null,
   "metadata": {},
   "outputs": [],
   "source": [
    "len(XX[stream_sky_mask]) * np.concatenate(np.exp(sampler.chain[:, ::8, -1]))"
   ]
  },
  {
   "cell_type": "code",
   "execution_count": null,
   "metadata": {},
   "outputs": [],
   "source": [
    "norm = 0.0\n",
    "post_prob = np.zeros(XX.shape[0])\n",
    "\n",
    "_chain = sampler.chain[:, -2:]\n",
    "for i in range(_chain.shape[1]):\n",
    "    for j in range(_chain.shape[0]):\n",
    "        _, (ll_bg, ll_fg) = ln_likelihood(_chain[j, i], faster_gmm, XX, CC, dphi1, bg_prob)\n",
    "        post_prob += np.exp(ll_fg - np.logaddexp(ll_fg, ll_bg))\n",
    "        norm += 1\n",
    "\n",
    "post_prob /= norm\n",
    "post_prob.sum()"
   ]
  },
  {
   "cell_type": "code",
   "execution_count": null,
   "metadata": {},
   "outputs": [],
   "source": [
    "post_prob[stream_sky_mask & (~np.isin(g_merged.source_id, g_oden.source_id))].sum()"
   ]
  },
  {
   "cell_type": "code",
   "execution_count": null,
   "metadata": {},
   "outputs": [],
   "source": [
    "flatchain = np.vstack(sampler.chain[:, ::1024])\n",
    "flatchain.shape"
   ]
  },
  {
   "cell_type": "code",
   "execution_count": null,
   "metadata": {},
   "outputs": [],
   "source": [
    "np.median(flatchain, axis=0)"
   ]
  },
  {
   "cell_type": "code",
   "execution_count": null,
   "metadata": {},
   "outputs": [],
   "source": [
    "_ = corner.corner(flatchain)"
   ]
  },
  {
   "cell_type": "markdown",
   "metadata": {},
   "source": [
    "### Corner plot for paper:"
   ]
  },
  {
   "cell_type": "code",
   "execution_count": null,
   "metadata": {},
   "outputs": [],
   "source": [
    "flat_pm1_samples = flatchain[:, 0]\n",
    "flat_pm2_samples = flatchain[:, 1]\n",
    "flat_dist_samples = flatchain[:, 2]\n",
    "\n",
    "flat_samples_c = coord.SkyCoord(phi1=0*u.deg, phi2=0*u.deg, \n",
    "                                distance=flat_dist_samples*u.kpc, frame=gc.Pal5,\n",
    "                                pm_phi1_cosphi2=flat_pm1_samples*u.mas/u.yr,\n",
    "                                pm_phi2=flat_pm2_samples*u.mas/u.yr).icrs\n",
    "\n",
    "flat_samples_X = np.stack((flat_samples_c.distance.value,\n",
    "                           flat_samples_c.pm_ra_cosdec.value,\n",
    "                           flat_samples_c.pm_dec.value)).T\n",
    "\n",
    "fac = 3\n",
    "# era = fac * vasiliev_pal5['ePMRA']\n",
    "# edec = fac * vasiliev_pal5['ePMDEC']\n",
    "era = np.sqrt([0.1])\n",
    "edec = np.sqrt([0.1])\n",
    "_cross = era * edec * vasiliev_pal5['corrPM']\n",
    "_cov = np.array([[era**2, _cross],\n",
    "                 [_cross, edec**2]])[..., 0]\n",
    "_mu = np.array([vasiliev_pal5['PMRA'], vasiliev_pal5['PMDEC']])[:, 0]\n",
    "_pm_samples = np.random.multivariate_normal(_mu, _cov, size=1000000).T\n",
    "_d_samples = np.random.normal(23.6, fac * 0.8, size=_pm_samples.shape[1])\n",
    "flat_prior_samples = np.stack((_d_samples, _pm_samples[0], _pm_samples[1])).T"
   ]
  },
  {
   "cell_type": "code",
   "execution_count": null,
   "metadata": {},
   "outputs": [],
   "source": [
    "fig = corner.corner(flat_prior_samples, color='tab:green', \n",
    "                    plot_density=False, plot_datapoints=False,\n",
    "                    hist_kwargs=dict(density=True),\n",
    "                    levels=(1-np.exp(-0.5), 1-np.exp(-0.5*(2**2))),\n",
    "                    bins=50)\n",
    "fig = corner.corner(flat_samples_X, \n",
    "                    range=[[15, 32], [-3.7, -1.7], [-3.7, -1.7]],\n",
    "                    plot_density=False, plot_datapoints=False,\n",
    "                    fig=fig, hist_kwargs=dict(density=True),\n",
    "                    levels=(1-np.exp(-0.5), 1-np.exp(-0.5*(2**2))), \n",
    "                    bins=32)"
   ]
  },
  {
   "cell_type": "markdown",
   "metadata": {},
   "source": [
    "### Write prob table"
   ]
  },
  {
   "cell_type": "code",
   "execution_count": null,
   "metadata": {},
   "outputs": [],
   "source": [
    "prob_tbl = g_merged.data.copy()\n",
    "prob_tbl['member_prob'] = post_prob\n",
    "prob_tbl['inside_stream_track'] = merged_sky_mask\n",
    "prob_tbl = prob_tbl[(post_prob > 0.01) & (~np.isin(g_merged.source_id, g_oden.source_id))]\n",
    "# prob_tbl.write('../data/RRL-with-prob.csv', overwrite=True)\n",
    "# prob_tbl.write('../data/RRL-with-prob.fits', overwrite=True)\n",
    "len(prob_tbl)"
   ]
  },
  {
   "cell_type": "code",
   "execution_count": null,
   "metadata": {},
   "outputs": [],
   "source": [
    "((prob_tbl['member_prob'] > 0.5) & prob_tbl['inside_stream_track']).sum()"
   ]
  },
  {
   "cell_type": "code",
   "execution_count": null,
   "metadata": {},
   "outputs": [],
   "source": [
    "min_prob = 0.05\n",
    "\n",
    "plt.figure(figsize=(8, 6))\n",
    "\n",
    "plt.scatter(g_merged.ra[post_prob > min_prob], \n",
    "            g_merged.dec[post_prob > min_prob], \n",
    "            c=post_prob[post_prob > min_prob], \n",
    "            cmap='magma_r', alpha=0.45, linewidth=0)\n",
    "\n",
    "plt.plot(sky_path['ra'], sky_path['dec'], marker='')\n",
    "\n",
    "plt.xlim(250, 215)\n",
    "plt.ylim(-10, 10)\n",
    "\n",
    "plt.xlabel('RA')\n",
    "plt.ylabel('Dec.')\n",
    "\n",
    "# ---\n",
    "\n",
    "plt.figure(figsize=(8, 6))\n",
    "\n",
    "plt.scatter(merged_c_pal5.phi1.degree[post_prob > min_prob], \n",
    "            merged_c_pal5.phi2.degree[post_prob > min_prob],\n",
    "            c=post_prob[post_prob > min_prob], \n",
    "            cmap='magma_r', alpha=0.75, linewidth=0)\n",
    "\n",
    "plt.xlim(-20, 15)\n",
    "plt.ylim(-10, 10)\n",
    "\n",
    "plt.xlabel('RA')\n",
    "plt.ylabel('Dec')"
   ]
  },
  {
   "cell_type": "markdown",
   "metadata": {},
   "source": [
    "### Plot sky position over MS stars"
   ]
  },
  {
   "cell_type": "code",
   "execution_count": null,
   "metadata": {},
   "outputs": [],
   "source": [
    "ana = fits.getdata('../../pal5s-biggest-fan/data/pal5_ls_lite_grz.fits')\n",
    "ana_masks = fits.getdata('../../pal5s-biggest-fan/data/cmd_masks_orig.fits')\n",
    "ana = ana[ana_masks['gr_mask'] & ana_masks['grz_mask']]"
   ]
  },
  {
   "cell_type": "code",
   "execution_count": null,
   "metadata": {},
   "outputs": [],
   "source": [
    "def truncate_colormap(cmap, minval=0.0, maxval=1.0, n=256):\n",
    "    new_cmap = mpl.colors.LinearSegmentedColormap.from_list(\n",
    "        'trunc({n},{a:.2f},{b:.2f})'.format(n=cmap.name, a=minval, b=maxval),\n",
    "        cmap(np.linspace(minval, maxval, n)))\n",
    "    return new_cmap\n",
    "\n",
    "cmap = truncate_colormap(plt.get_cmap('GnBu'), minval=0, maxval=0.9)"
   ]
  },
  {
   "cell_type": "code",
   "execution_count": null,
   "metadata": {},
   "outputs": [],
   "source": [
    "min_prob = 0.1\n",
    "prob_mask = (post_prob > min_prob)\n",
    "rrl_mask =  ~np.isin(g_merged.source_id, g_oden.source_id)\n",
    "\n",
    "fig, ax = plt.subplots(1, 1, figsize=(8, 4.5), \n",
    "                         sharex=True, sharey=True,\n",
    "                         constrained_layout=True)\n",
    "\n",
    "*_, hh = ax.hist2d(ana['ra'], ana['dec'],\n",
    "                   bins=(np.arange(ra_lim.value[0], ra_lim.value[1]+1e-3, 0.2),\n",
    "                         np.arange(dec_lim.value[0], dec_lim.value[1]+1e-3, 0.2)),\n",
    "                   cmap='Greys', vmin=4, vmax=44, rasterized=True)\n",
    "# hh.set_edgecolor('face')\n",
    "\n",
    "cs = ax.scatter(g_merged.ra[prob_mask & rrl_mask], \n",
    "                g_merged.dec[prob_mask & rrl_mask], \n",
    "                c=post_prob[prob_mask & rrl_mask], \n",
    "                cmap=cmap, alpha=0.8, \n",
    "                linewidth=0.5, edgecolor='#777777', s=20,\n",
    "                label='RRL', zorder=100, vmin=0, vmax=1)\n",
    "\n",
    "cs = ax.scatter(g_merged.ra[~prob_mask & rrl_mask], \n",
    "                g_merged.dec[~prob_mask & rrl_mask], \n",
    "                c=post_prob[~prob_mask & rrl_mask], \n",
    "                cmap=cmap, alpha=0.9, \n",
    "                linewidth=0.2, edgecolor='#777777', s=4,\n",
    "                label='RRL', zorder=50, vmin=0, vmax=1)\n",
    "\n",
    "ax.plot(sky_path['ra'], sky_path['dec'],\n",
    "        marker='', alpha=0.4, color='tab:purple')\n",
    "\n",
    "ax.set_xlim(250, 215)\n",
    "ax.set_ylim(-11, 10)\n",
    "\n",
    "ax.set_xlabel('RA [deg]')\n",
    "ax.set_ylabel('Dec. [deg]')\n",
    "\n",
    "ax.xaxis.tick_bottom()\n",
    "ax.yaxis.tick_left()\n",
    "\n",
    "# inset plot\n",
    "zoom_size = 0.4\n",
    "zoom_xlim = [229.02-zoom_size, 229.02+zoom_size]\n",
    "zoom_ylim = [-0.11-zoom_size, -0.11+zoom_size]\n",
    "# ax.add_patch(mpl.patches.Rectangle((zoom_xlim[0], zoom_ylim[0]), \n",
    "#                                    width=zoom_size*2, height=zoom_size*2,\n",
    "#                                    facecolor='none', edgecolor='tab:orange', linewidth=0.5))\n",
    "axins = ax.inset_axes([0.63, 0.55, 0.42, 0.42], zorder=500)\n",
    "axins.hist2d(ana['ra'], ana['dec'],\n",
    "             bins=(np.arange(zoom_xlim[0], zoom_xlim[1]+1e-3, 0.03),\n",
    "                   np.arange(zoom_ylim[0], zoom_ylim[1]+1e-3, 0.03)),\n",
    "             cmap='Greys', rasterized=True, zorder=501, vmin=0, vmax=5)\n",
    "axins.scatter(g_merged.ra[prob_mask & rrl_mask], \n",
    "              g_merged.dec[prob_mask & rrl_mask], \n",
    "              c=post_prob[prob_mask & rrl_mask], \n",
    "              cmap=cmap, alpha=0.7, \n",
    "              linewidth=0.5, edgecolor='#777777', s=30,\n",
    "              label='RRL', vmin=0, vmax=1, zorder=522)\n",
    "axins.add_patch(mpl.patches.Circle((229.02, -0.11), radius=(11.2*u.arcmin).to_value(u.deg), \n",
    "                                   zorder=510, facecolor='none', edgecolor='tab:red', alpha=0.5))\n",
    "axins.text(228.84, -0.22, 'Jacobi\\nradius', \n",
    "           zorder=509, va='top', color='tab:red', alpha=0.7)\n",
    "axins.set_aspect('equal')\n",
    "axins.set_xlim(zoom_xlim[::-1])\n",
    "axins.set_ylim(zoom_ylim)\n",
    "axins.xaxis.set_visible(False)\n",
    "axins.yaxis.set_visible(False)\n",
    "  \n",
    "cb = fig.colorbar(cs, ax=fig.axes[0], aspect=30)\n",
    "cb.ax.yaxis.set_ticks(np.arange(0, 1+1e-3, 0.25));\n",
    "cs.set_clim(0, 1)\n",
    "cb.set_label('membership probability')\n",
    "\n",
    "fig.set_facecolor('w')\n",
    "\n",
    "fig.savefig('../plots/members.pdf', dpi=300)"
   ]
  },
  {
   "cell_type": "code",
   "execution_count": null,
   "metadata": {},
   "outputs": [],
   "source": [
    "rrl_mask = ~np.isin(g_merged.source_id, g_oden.source_id)\n",
    "rrl_mask.sum()"
   ]
  },
  {
   "cell_type": "code",
   "execution_count": null,
   "metadata": {},
   "outputs": [],
   "source": [
    "post_prob[stream_sky_mask & rrl_mask].sum()"
   ]
  },
  {
   "cell_type": "markdown",
   "metadata": {},
   "source": [
    "### N in cluster, and jacobi radius"
   ]
  },
  {
   "cell_type": "code",
   "execution_count": null,
   "metadata": {},
   "outputs": [],
   "source": [
    "_mask = (post_prob > 0.5) & stream_sky_mask & (~np.isin(g_merged.source_id, g_oden.source_id))\n",
    "in_track_members = g_merged[_mask]\n",
    "in_track_members_c = merged_c[_mask]\n",
    "in_track_members_pal5 = in_track_members_c.transform_to(gc.Pal5)\n",
    "len(in_track_members)"
   ]
  },
  {
   "cell_type": "code",
   "execution_count": null,
   "metadata": {},
   "outputs": [],
   "source": [
    "pal5_c = coord.SkyCoord(ra=229.018*u.degree, dec=-0.124*u.degree,\n",
    "                        distance=20.9*u.kpc)\n",
    "xyz = pal5_c.transform_to(galcen_frame).data.xyz\n",
    "Menc = gp.MilkyWayPotential().mass_enclosed(xyz)[0]\n",
    "m_pal5 = 1.2e4*u.Msun\n",
    "\n",
    "rjac = (m_pal5 / Menc)**(1/3) * pal5_c.transform_to(galcen_frame).data.norm()\n",
    "rjac_arcmin = (rjac / pal5_c.distance).to(u.arcmin, u.dimensionless_angles())\n",
    "rjac_arcmin"
   ]
  },
  {
   "cell_type": "code",
   "execution_count": null,
   "metadata": {},
   "outputs": [],
   "source": [
    "jacobi_rad_mask = in_track_members_c.separation(pal5_c) < rjac_arcmin\n",
    "all_jacobi_mask = merged_c.separation(pal5_c) < rjac_arcmin"
   ]
  },
  {
   "cell_type": "code",
   "execution_count": null,
   "metadata": {},
   "outputs": [],
   "source": [
    "jacobi_rad_mask.sum(), (~jacobi_rad_mask).sum()"
   ]
  },
  {
   "cell_type": "code",
   "execution_count": null,
   "metadata": {},
   "outputs": [],
   "source": [
    "np.unique(in_track_members.best_Type, return_counts=True)"
   ]
  },
  {
   "cell_type": "code",
   "execution_count": null,
   "metadata": {},
   "outputs": [],
   "source": [
    "np.unique(in_track_members.best_Type[jacobi_rad_mask], return_counts=True)"
   ]
  },
  {
   "cell_type": "code",
   "execution_count": null,
   "metadata": {},
   "outputs": [],
   "source": [
    "np.unique(in_track_members.best_Type[~jacobi_rad_mask], return_counts=True)"
   ]
  },
  {
   "cell_type": "code",
   "execution_count": null,
   "metadata": {},
   "outputs": [],
   "source": [
    "(post_prob[rrl_mask] > 0.5).sum(), ((post_prob > 0.5) & rrl_mask & stream_sky_mask).sum()"
   ]
  },
  {
   "cell_type": "code",
   "execution_count": null,
   "metadata": {},
   "outputs": [],
   "source": [
    "rrl_types = g_merged.data[((post_prob > 0.5) & rrl_mask & stream_sky_mask)]['PS1_type']\n",
    "np.unique(rrl_types, return_counts=True)"
   ]
  },
  {
   "cell_type": "markdown",
   "metadata": {},
   "source": [
    "### Make track samples from mcmc samples"
   ]
  },
  {
   "cell_type": "code",
   "execution_count": null,
   "metadata": {},
   "outputs": [],
   "source": [
    "_grid = np.linspace(-20, 15, 512)\n",
    "\n",
    "# percentiles = [16, 50, 84]\n",
    "percentiles = [5, 50, 95]\n",
    "\n",
    "x = _grid[None] - flatchain[:, 9:10]\n",
    "pm1_samples = flatchain[:, 0:1] + flatchain[:, 3:4]*x + flatchain[:, 6:7]*x**2\n",
    "pm1_pctl = np.percentile(pm1_samples, percentiles, axis=0)\n",
    "\n",
    "x = _grid[None] - flatchain[:, 10:11]\n",
    "pm2_samples = flatchain[:, 1:2] + flatchain[:, 4:5]*x + flatchain[:, 7:8]*x**2\n",
    "pm2_pctl = np.percentile(pm2_samples, percentiles, axis=0)\n",
    "\n",
    "x = _grid[None] - flatchain[:, 11:12]\n",
    "dist_samples = flatchain[:, 2:3] + flatchain[:, 5:6]*x + flatchain[:, 8:9]*x**2\n",
    "dist_pctl = np.percentile(dist_samples, percentiles, axis=0)"
   ]
  },
  {
   "cell_type": "code",
   "execution_count": null,
   "metadata": {},
   "outputs": [],
   "source": [
    "for i in range(3):\n",
    "    x = 0 - flatchain[:, 9+i]\n",
    "    x_samples = flatchain[:, 0+i] + flatchain[:, 3+i]*x + flatchain[:, 6+i]*x**2\n",
    "    print(np.median(x_samples), 1.5 * np.median(np.abs(x_samples - np.median(x_samples))))"
   ]
  },
  {
   "cell_type": "code",
   "execution_count": null,
   "metadata": {},
   "outputs": [],
   "source": [
    "coord.SkyCoord(0*u.deg, 0*u.deg,\n",
    "               pm_phi1_cosphi2=3.783*u.mas/u.yr,\n",
    "               pm_phi2=0.715*u.mas/u.yr,\n",
    "               frame=gc.Pal5).icrs"
   ]
  },
  {
   "cell_type": "code",
   "execution_count": null,
   "metadata": {},
   "outputs": [],
   "source": [
    "vasiliev_pal5"
   ]
  },
  {
   "cell_type": "markdown",
   "metadata": {},
   "source": [
    "How different is the velocity:"
   ]
  },
  {
   "cell_type": "code",
   "execution_count": null,
   "metadata": {},
   "outputs": [],
   "source": [
    "old_v = (23.5 * u.kpc * np.sqrt(2.296**2 + 2.257**2)*u.mas/u.yr).to(u.km/u.s, u.dimensionless_angles())\n",
    "new_v = (20.5 * u.kpc * np.sqrt(3.783**2 + 0.72**2)*u.mas/u.yr).to(u.km/u.s, u.dimensionless_angles())\n",
    "old_v - new_v"
   ]
  },
  {
   "cell_type": "code",
   "execution_count": null,
   "metadata": {},
   "outputs": [],
   "source": [
    "plt.plot(_grid, dist_pctl[1], **med_style)\n",
    "plt.fill_between(_grid, dist_pctl[0], dist_pctl[2],\n",
    "                 color='tab:blue', alpha=0.5, zorder=-10, linewidth=0)\n",
    "\n",
    "plt.errorbar(merged_c_pal5.phi1.degree[other_ax_mask], \n",
    "             g_merged.D_ps1[other_ax_mask],\n",
    "             yerr=(0.03 * g_merged.D_ps1)[other_ax_mask],\n",
    "             marker='o', ls='none', ecolor='#aaaaaa', \n",
    "             alpha=0.75, zorder=-10, elinewidth=0.75)\n",
    "\n",
    "plt.xlim(-1, 1)\n",
    "plt.ylim(17, 24)\n",
    "plt.axvline(12/60)\n",
    "plt.axvline(-12/60)\n",
    "\n",
    "plt.xlabel(r'$\\phi_1$')\n",
    "plt.ylabel('$d$ [kpc]')"
   ]
  },
  {
   "cell_type": "markdown",
   "metadata": {},
   "source": [
    "### Plot kinematics vs. phi1"
   ]
  },
  {
   "cell_type": "code",
   "execution_count": null,
   "metadata": {},
   "outputs": [],
   "source": [
    "merged_c_pal5_reflex = gc.reflex_correct(merged_c_pal5)"
   ]
  },
  {
   "cell_type": "code",
   "execution_count": null,
   "metadata": {},
   "outputs": [],
   "source": [
    "estyle = dict(marker='', ls='none', ecolor='#aaaaaa', \n",
    "              alpha=0.75, zorder=-10, elinewidth=0.75)\n",
    "style = dict(vmin=0., vmax=1, cmap=cmap, s=15,\n",
    "             marker='o', alpha=0.85, zorder=10,\n",
    "             linewidth=0.5, edgecolor='#777777')\n",
    "style_sm = style.copy()\n",
    "style_sm['s'] = 4\n",
    "style_sm['alpha'] = 0.4\n",
    "style_sm['zorder'] = 1\n",
    "\n",
    "fill_style = dict(color='tab:orange', alpha=0.2, zorder=-10, linewidth=0)\n",
    "med_style = dict(color='tab:orange', alpha=0.8, marker='', zorder=-2)\n",
    "\n",
    "fig, axes = plt.subplots(2, 2, figsize=(10, 6), \n",
    "                         sharex=True, constrained_layout=True)\n",
    "axes = axes.flat\n",
    "\n",
    "ax = axes[0]\n",
    "\n",
    "cs = ax.scatter(merged_c_pal5.phi1.degree[prob_mask], \n",
    "           merged_c_pal5.phi2.degree[prob_mask],\n",
    "           c=post_prob[prob_mask],\n",
    "           **style)\n",
    "\n",
    "ax.scatter(merged_c_pal5.phi1.degree[~prob_mask], \n",
    "           merged_c_pal5.phi2.degree[~prob_mask],\n",
    "           c=post_prob[~prob_mask],\n",
    "           **style_sm)\n",
    "\n",
    "ax.quiver(merged_c_pal5_reflex.phi1[prob_mask], \n",
    "          merged_c_pal5_reflex.phi2[prob_mask],\n",
    "          merged_c_pal5_reflex.pm_phi1_cosphi2[prob_mask].value, \n",
    "          merged_c_pal5_reflex.pm_phi2[prob_mask].value, \n",
    "          headwidth=4, headlength=6, width=0.1, scale=1.,\n",
    "          units='xy', zorder=-10, color='#777777', alpha=0.5,\n",
    "          rasterized=True)\n",
    "\n",
    "ax.yaxis.set_ticks(np.arange(-2, 5+1, 2))\n",
    "ax.set_xlim(-20, 15)\n",
    "ax.set_ylim(-3, 5)\n",
    "ax.set_ylabel(r'$\\phi_2$ [${\\rm deg}$]')\n",
    "\n",
    "# ---\n",
    "\n",
    "other_ax_mask = prob_mask & (merged_c_pal5.phi2.degree > -2.5) & (merged_c_pal5.phi2.degree < 5.)\n",
    "other_ax_mask_sm = ~prob_mask & (merged_c_pal5.phi2.degree > -2.5) & (merged_c_pal5.phi2.degree < 5.)\n",
    "\n",
    "ax = axes[1]\n",
    "ax.errorbar(merged_c_pal5.phi1.degree[other_ax_mask], \n",
    "            g_merged.D_ps1[other_ax_mask],\n",
    "            yerr=(0.03 * g_merged.D_ps1)[other_ax_mask],\n",
    "            **estyle)\n",
    "\n",
    "ax.scatter(merged_c_pal5.phi1.degree[other_ax_mask], \n",
    "           g_merged.D_ps1[other_ax_mask],\n",
    "           c=post_prob[other_ax_mask],\n",
    "           **style)\n",
    "\n",
    "ax.scatter(merged_c_pal5.phi1.degree[other_ax_mask_sm], \n",
    "           g_merged.D_ps1[other_ax_mask_sm],\n",
    "           c=post_prob[other_ax_mask_sm],\n",
    "           **style_sm)\n",
    "\n",
    "ax.fill_between(_grid, dist_pctl[0], dist_pctl[2],\n",
    "                **fill_style)\n",
    "ax.plot(_grid, dist_pctl[1], **med_style)\n",
    "\n",
    "ax.set_ylim(13, 26)\n",
    "ax.yaxis.set_ticks(np.arange(13, 25+1e-3, 2))\n",
    "ax.set_ylabel('$d$ [{:latex_inline}]'.format(u.kpc))\n",
    "\n",
    "# ---\n",
    "\n",
    "ax = axes[2]\n",
    "ax.errorbar(merged_c_pal5.phi1.degree[other_ax_mask], \n",
    "            merged_c_pal5.pm_phi1_cosphi2.value[other_ax_mask],\n",
    "            yerr=g_merged.pmra_error.value[other_ax_mask],\n",
    "            **estyle)\n",
    "\n",
    "ax.scatter(merged_c_pal5.phi1.degree[other_ax_mask], \n",
    "           merged_c_pal5.pm_phi1_cosphi2.value[other_ax_mask],\n",
    "           c=post_prob[other_ax_mask],\n",
    "           **style)\n",
    "\n",
    "ax.scatter(merged_c_pal5.phi1.degree[other_ax_mask_sm], \n",
    "           merged_c_pal5.pm_phi1_cosphi2.value[other_ax_mask_sm],\n",
    "           c=post_prob[other_ax_mask_sm],\n",
    "           **style_sm)\n",
    "\n",
    "ax.fill_between(_grid, pm1_pctl[0], pm1_pctl[2],\n",
    "                **fill_style)\n",
    "ax.plot(_grid, np.full_like(_grid, pm1_pctl[1]), **med_style)\n",
    "\n",
    "ax.set_ylim(1, 6)\n",
    "ax.set_ylabel(r'$\\mu_1$ [{:latex_inline}]'.format(u.mas/u.yr))\n",
    "\n",
    "# ---\n",
    "\n",
    "ax = axes[3]\n",
    "ax.errorbar(merged_c_pal5.phi1.degree[other_ax_mask], \n",
    "            merged_c_pal5.pm_phi2.value[other_ax_mask],\n",
    "            yerr=g_merged.pmdec_error.value[other_ax_mask],\n",
    "            **estyle)\n",
    "\n",
    "ax.scatter(merged_c_pal5.phi1.degree[other_ax_mask], \n",
    "           merged_c_pal5.pm_phi2.value[other_ax_mask],\n",
    "           c=post_prob[other_ax_mask],\n",
    "           **style)\n",
    "\n",
    "ax.scatter(merged_c_pal5.phi1.degree[other_ax_mask_sm], \n",
    "           merged_c_pal5.pm_phi2.value[other_ax_mask_sm],\n",
    "           c=post_prob[other_ax_mask_sm],\n",
    "           **style_sm)\n",
    "\n",
    "ax.fill_between(_grid, pm2_pctl[0], pm2_pctl[2],\n",
    "                **fill_style)\n",
    "ax.plot(_grid, pm2_pctl[1], **med_style)\n",
    "\n",
    "ax.set_ylim(-2.5, 2.5)\n",
    "ax.set_ylabel(r'$\\mu_2$ [{:latex_inline}]'.format(u.mas/u.yr))\n",
    "\n",
    "for ax in axes[2:]:\n",
    "    ax.set_xlabel(r'$\\phi_1$ [${\\rm deg}$]')\n",
    "\n",
    "cb = fig.colorbar(cs, ax=fig.axes, aspect=10, shrink=0.6,\n",
    "                  location='bottom')\n",
    "cb.ax.yaxis.set_ticks(np.arange(0, 1+1e-3, 0.25));\n",
    "cs.set_clim(0, 1)\n",
    "cb.set_label('membership probability', fontsize=18)\n",
    "\n",
    "# from matplotlib.font_manager import FontProperties\n",
    "# fig.suptitle('Pal 5 stream track from RR Lyrae', \n",
    "#              fontproperties=FontProperties(family='serif', weight='bold', size=18), \n",
    "#              ha='center')\n",
    "\n",
    "fig.set_facecolor('w')\n",
    "fig.savefig('../plots/tracks.pdf', dpi=300)"
   ]
  },
  {
   "cell_type": "markdown",
   "metadata": {},
   "source": [
    "### Plot proper motion distribution"
   ]
  },
  {
   "cell_type": "code",
   "execution_count": null,
   "metadata": {},
   "outputs": [],
   "source": [
    "c_stream_track = g_stream_track.get_skycoord(distance=False)\n",
    "stream_track_jacobi_mask = c_stream_track.separation(pal5_c) < rjac_arcmin"
   ]
  },
  {
   "cell_type": "code",
   "execution_count": null,
   "metadata": {},
   "outputs": [],
   "source": [
    "style = dict(marker='o', ls='', ms=4., alpha=0.9)\n",
    "style_jac = dict(marker='s', ls='', ms=4., alpha=0.9)\n",
    "\n",
    "fig, axes = plt.subplots(1, 3, figsize=(13, 5),\n",
    "                         sharex=True, sharey=True)\n",
    "\n",
    "ax = axes[0]\n",
    "_D_mask = (g_all.D_ps1 > 18) & (g_all.D_ps1 < 25)\n",
    "ax.plot(g_all.pmra.value[_D_mask], \n",
    "        g_all.pmdec.value[_D_mask],\n",
    "        **style)\n",
    "\n",
    "ax = axes[1]\n",
    "ax.plot(g_stream_track.pmra.value[(np.abs(g_stream_track.D_ps1-23)<4) & stream_track_jacobi_mask], \n",
    "        g_stream_track.pmdec.value[(np.abs(g_stream_track.D_ps1-23)<4) & stream_track_jacobi_mask],\n",
    "        color='tab:blue', **style_jac)\n",
    "ax.plot(g_stream_track.pmra.value[(np.abs(g_stream_track.D_ps1-23)<4) & ~stream_track_jacobi_mask], \n",
    "        g_stream_track.pmdec.value[(np.abs(g_stream_track.D_ps1-23)<4) & ~stream_track_jacobi_mask],\n",
    "        color='k', **style)\n",
    "\n",
    "ax.scatter(vasiliev_pal5['PMRA'], vasiliev_pal5['PMDEC'], \n",
    "           label='Vasiliev19',\n",
    "           color='tab:red', s=40, alpha=0.75, linewidth=0, zorder=-5)\n",
    "ax.errorbar(vasiliev_pal5['PMRA'], vasiliev_pal5['PMDEC'], \n",
    "            xerr=vasiliev_pal5['ePMRA'], \n",
    "            yerr=vasiliev_pal5['ePMDEC'], \n",
    "            color='tab:red', marker='', ls='none', alpha=0.3)\n",
    "\n",
    "ax.scatter(-2.296, -2.257, label='Fritz15',\n",
    "           color='tab:green', s=40, alpha=0.75, linewidth=0, zorder=-5)\n",
    "ax.errorbar(-2.296, -2.257,\n",
    "            xerr=0.186, \n",
    "            yerr=0.181, \n",
    "            color='tab:green', marker='', ls='none', alpha=0.3)\n",
    "\n",
    "ax.annotate('Pal 5', xy=(-2.7, -3.6), xytext=(-2.7, -4.5), \n",
    "            ha='center', va='top', color='k',\n",
    "            arrowprops=dict(arrowstyle=\"->\", color='k'),\n",
    "            fontsize=17)\n",
    "\n",
    "# for j in range(1024):\n",
    "#     ax.plot(np.full_like(_grid, pmra_samples[j]), \n",
    "#             pmdec_samples[j], \n",
    "#             marker='', alpha=0.01, color='tab:blue', zorder=-100)\n",
    "\n",
    "ax.text(-3.5, 0 + 0.25, 'median error', fontsize=16,\n",
    "        ha='center', va='bottom')\n",
    "ax.errorbar(-3.5, 0,\n",
    "            xerr=0.25, yerr=0.2,\n",
    "            marker='', ls='',\n",
    "            alpha=1, color='#888888')\n",
    "    \n",
    "ax = axes[2]\n",
    "ax.plot(g_nostream.pmra.value[np.abs(g_nostream.D_ps1-23)<4], \n",
    "        g_nostream.pmdec.value[np.abs(g_nostream.D_ps1-23)<4],\n",
    "        **style)\n",
    "\n",
    "ax.set_xlim(-5, 1)\n",
    "ax.set_ylim(-5, 1)\n",
    "\n",
    "for ax in axes:\n",
    "    ax.set_xlabel(r'$\\mu_\\alpha$ [{:latex_inline}]'.format(u.mas/u.yr))\n",
    "    ax.set_xticks(np.arange(-4, 1+1e-3, 1))\n",
    "axes[0].set_ylabel(r'$\\mu_\\delta$ [{:latex_inline}]'.format(u.mas/u.yr))\n",
    "\n",
    "axes[0].set_title(r'RRL: $18 < d < 25\\,{\\rm kpc}}$')\n",
    "axes[1].set_title('near stream track')\n",
    "axes[2].set_title('excluding stream')\n",
    "\n",
    "axes[1].legend(loc='lower right', fontsize=14)\n",
    "\n",
    "fig.set_facecolor('w')\n",
    "\n",
    "fig.tight_layout()\n",
    "\n",
    "fig.savefig('../plots/proper-motion.pdf')"
   ]
  },
  {
   "cell_type": "markdown",
   "metadata": {},
   "source": [
    "### Plot Galactocentric properties:"
   ]
  },
  {
   "cell_type": "code",
   "execution_count": null,
   "metadata": {},
   "outputs": [],
   "source": [
    "d_samples = np.random.normal(in_track_members.distance.value,\n",
    "                             0.03 * in_track_members.distance.value,\n",
    "                             size=(256, len(in_track_members))).T * u.kpc\n",
    "\n",
    "in_track_c_samples = coord.SkyCoord(in_track_members.ra[:, None],\n",
    "                                    in_track_members.dec[:, None],\n",
    "                                    distance=d_samples)\n",
    "\n",
    "members_galcen = in_track_c_samples.transform_to(galcen_frame)"
   ]
  },
  {
   "cell_type": "code",
   "execution_count": null,
   "metadata": {},
   "outputs": [],
   "source": [
    "plt.plot(members_galcen.spherical.lon.wrap_at(180*u.deg).T,\n",
    "         members_galcen.spherical.lat.T,\n",
    "         marker='o', ls='none', mew=0);"
   ]
  },
  {
   "cell_type": "markdown",
   "metadata": {},
   "source": [
    "Find the cluster mean distance, position:"
   ]
  },
  {
   "cell_type": "code",
   "execution_count": null,
   "metadata": {},
   "outputs": [],
   "source": [
    "cl_in_track = in_track_members[np.abs(in_track_members_pal5.phi1.wrap_at(180*u.deg).degree) < 0.2]\n",
    "d = cl_in_track.distance\n",
    "d_err = 0.03 * d\n",
    "mean_d = np.sum(d / d_err**2) / np.sum(1 / d_err**2)\n",
    "print('{:.1f} +/- {:.1f}'.format(mean_d, np.sqrt(1 / np.sum(1 / d_err**2))))"
   ]
  },
  {
   "cell_type": "code",
   "execution_count": null,
   "metadata": {},
   "outputs": [],
   "source": [
    "zeropt = coord.SkyCoord(np.median(cl_in_track.ra), \n",
    "                        np.median(cl_in_track.dec),\n",
    "                        distance=mean_d)\n",
    "zeropt = zeropt.transform_to(galcen_frame)"
   ]
  },
  {
   "cell_type": "code",
   "execution_count": null,
   "metadata": {},
   "outputs": [],
   "source": [
    "from astropy.coordinates.matrix_utilities import rotation_matrix, matrix_product"
   ]
  },
  {
   "cell_type": "code",
   "execution_count": null,
   "metadata": {},
   "outputs": [],
   "source": [
    "R1 = rotation_matrix(zeropt.spherical.lon, 'z')\n",
    "R2 = rotation_matrix(-zeropt.spherical.lat, 'y')\n",
    "R3 = rotation_matrix(-17*u.deg, 'x')\n",
    "# R3 = np.eye(3)\n",
    "R = matrix_product(R3, R2, R1)"
   ]
  },
  {
   "cell_type": "code",
   "execution_count": null,
   "metadata": {},
   "outputs": [],
   "source": [
    "rep = members_galcen.data.transform(R)\n",
    "rep = rep.represent_as(coord.SphericalRepresentation)"
   ]
  },
  {
   "cell_type": "code",
   "execution_count": null,
   "metadata": {},
   "outputs": [],
   "source": [
    "plt.figure(figsize=(6, 6))\n",
    "plt.plot(rep.lon.wrap_at(180*u.deg).degree.T,\n",
    "         rep.lat.degree.T,\n",
    "         marker='o', ls='none', mew=0,\n",
    "         alpha=0.4, ms=3);\n",
    "plt.axhline(0.)\n",
    "plt.xlim(-15, 15)\n",
    "plt.ylim(-15, 15)\n",
    "plt.xlabel('galcen lon')\n",
    "plt.ylabel('galcen lat')\n",
    "plt.gcf().set_facecolor('w')\n",
    "plt.tight_layout()"
   ]
  },
  {
   "cell_type": "markdown",
   "metadata": {},
   "source": [
    "---\n",
    "\n",
    "### Plot graveyard"
   ]
  },
  {
   "cell_type": "code",
   "execution_count": null,
   "metadata": {},
   "outputs": [],
   "source": [
    "fig, axes = plt.subplots(3, 1, figsize=(6, 12), sharex=True)\n",
    "\n",
    "ax = axes[2]\n",
    "ax.errorbar(merged_c_pal5.phi1.degree[rrl_prob_sky_mask], \n",
    "            g_merged.D_kpc[rrl_prob_sky_mask],\n",
    "             yerr=0.03 * g_merged.D_ps1[rrl_prob_sky_mask],\n",
    "             marker='o', ls='none')\n",
    "ax.errorbar(c_stream_pal5.phi1.degree,\n",
    "             g_stream.D_kpc,\n",
    "             yerr=0.03 * g_stream.D_kpc,\n",
    "             marker='o', ls='none', mec='tab:red', \n",
    "             mew=1, mfc='none', ms=5, ecolor='tab:red',\n",
    "             zorder=-10)\n",
    "\n",
    "_grid = np.linspace(-20, 15, 128)\n",
    "ax.fill_between(_grid, dist_pctl[0], dist_pctl[2],\n",
    "                 color='tab:blue', alpha=0.5, zorder=-10)\n",
    "ax.plot(_grid, dist_pctl[1], \n",
    "         color='tab:blue', zorder=10, marker='')\n",
    "\n",
    "ax.set_xlim(-20, 15)\n",
    "ax.set_ylim(17, 25)\n",
    "ax.set_xlabel(r'$\\phi_1$')\n",
    "ax.set_ylabel('D_kpc')\n",
    "\n",
    "# ---\n",
    "\n",
    "ax = axes[0]\n",
    "ax.errorbar(merged_c_pal5.phi1.degree[rrl_prob_sky_mask], \n",
    "             g_merged.pmra.value[rrl_prob_sky_mask],\n",
    "             yerr=g_merged.pmra_error.value[rrl_prob_sky_mask],\n",
    "             marker='o', ls='none')\n",
    "\n",
    "ax.errorbar(c_stream_pal5.phi1.degree,\n",
    "             g_stream.pmra.value,\n",
    "             yerr=g_stream.pmra_error.value,\n",
    "             marker='o', ls='none', mec='tab:red', \n",
    "             mew=1, mfc='none', ms=5, ecolor='tab:red',\n",
    "             zorder=-10)\n",
    "\n",
    "\n",
    "ax.set_xlim(-20, 15)\n",
    "ax.set_ylim(-3.5, -1.5)\n",
    "ax.set_ylabel(r'$\\mu_\\alpha$')\n",
    "\n",
    "# ---\n",
    "\n",
    "ax = axes[1]\n",
    "ax.errorbar(merged_c_pal5.phi1.degree[rrl_prob_sky_mask], \n",
    "             g_merged.pmdec.value[rrl_prob_sky_mask],\n",
    "             yerr=g_merged.pmdec_error.value[rrl_prob_sky_mask],\n",
    "             marker='o', ls='none')\n",
    "\n",
    "ax.errorbar(c_stream_pal5.phi1.degree,\n",
    "             g_stream.pmdec.value,\n",
    "             yerr=g_stream.pmdec_error.value,\n",
    "             marker='o', ls='none', mec='tab:red', \n",
    "             mew=1, mfc='none', ms=5, ecolor='tab:red',\n",
    "             zorder=-10)\n",
    "\n",
    "ax.fill_between(_grid, pmdec_pctl[0], pmdec_pctl[2],\n",
    "                 color='tab:blue', alpha=0.5, zorder=-10)\n",
    "ax.plot(_grid, pmdec_pctl[1], \n",
    "         color='tab:blue', zorder=10, marker='')\n",
    "\n",
    "ax.set_xlim(-1, 1)\n",
    "ax.set_ylim(-3.5, -1.5)\n",
    "ax.set_ylabel(r'$\\mu_\\delta$')\n",
    "\n",
    "fig.tight_layout()"
   ]
  },
  {
   "cell_type": "code",
   "execution_count": null,
   "metadata": {},
   "outputs": [],
   "source": [
    "min_prob_mask = post_prob > 0.1\n",
    "\n",
    "estyle = dict(marker='', ls='none', ecolor='#aaaaaa', \n",
    "              alpha=0.75, zorder=-10)\n",
    "style = dict(vmin=0., vmax=1, cmap='magma_r',\n",
    "             marker='o', linewidth=0, alpha=0.75, zorder=10)\n",
    "\n",
    "# ---\n",
    "\n",
    "fig, axes = plt.subplots(3, 1, figsize=(6, 12), sharex=True)\n",
    "\n",
    "ax = axes[0]\n",
    "ax.errorbar(merged_c_pal5.phi1.degree[min_prob_mask], \n",
    "            g_merged.pmra.value[min_prob_mask],\n",
    "            yerr=g_merged.pmra_error.value[min_prob_mask],\n",
    "            **estyle)\n",
    "\n",
    "ax.scatter(merged_c_pal5.phi1.degree[min_prob_mask], \n",
    "           g_merged.pmra.value[min_prob_mask],\n",
    "           c=post_prob[min_prob_mask],\n",
    "           **style)\n",
    "\n",
    "ax.fill_between(_grid, pmra_pctl[0], pmra_pctl[2],\n",
    "                 color='tab:blue', alpha=0.5, zorder=-10, linewidth=0)\n",
    "ax.plot(_grid, np.full_like(_grid, pmra_pctl[1]), \n",
    "         color='tab:blue', zorder=10, marker='')\n",
    "\n",
    "ax.set_ylim(-3.5, -1.5)\n",
    "ax.set_ylabel(r'$\\mu_\\alpha$')\n",
    "\n",
    "# ---\n",
    "\n",
    "ax = axes[1]\n",
    "ax.errorbar(merged_c_pal5.phi1.degree[min_prob_mask], \n",
    "            g_merged.pmdec.value[min_prob_mask],\n",
    "            yerr=g_merged.pmdec_error.value[min_prob_mask],\n",
    "            **estyle)\n",
    "\n",
    "ax.scatter(merged_c_pal5.phi1.degree[min_prob_mask], \n",
    "           g_merged.pmdec.value[min_prob_mask],\n",
    "           c=post_prob[min_prob_mask],\n",
    "           **style)\n",
    "\n",
    "ax.fill_between(_grid, pmdec_pctl[0], pmdec_pctl[2],\n",
    "                color='tab:blue', alpha=0.5, zorder=-10, linewidth=0)\n",
    "ax.plot(_grid, pmdec_pctl[1], \n",
    "         color='tab:blue', zorder=10, marker='')\n",
    "\n",
    "ax.set_ylim(-3.5, -1.5)\n",
    "ax.set_ylabel(r'$\\mu_\\delta$')\n",
    "\n",
    "# ---\n",
    "\n",
    "ax = axes[2]\n",
    "ax.errorbar(merged_c_pal5.phi1.degree[min_prob_mask], \n",
    "            g_merged.D_ps1[min_prob_mask],\n",
    "            yerr=(0.03 * g_merged.D_ps1)[min_prob_mask],\n",
    "            **estyle)\n",
    "\n",
    "ax.scatter(merged_c_pal5.phi1.degree[min_prob_mask], \n",
    "           g_merged.D_ps1[min_prob_mask],\n",
    "           c=post_prob[min_prob_mask],\n",
    "           **style)\n",
    "\n",
    "ax.fill_between(_grid, dist_pctl[0], dist_pctl[2],\n",
    "                 color='tab:blue', alpha=0.5, zorder=-10, linewidth=0)\n",
    "ax.plot(_grid, dist_pctl[1], \n",
    "         color='tab:blue', zorder=10, marker='')\n",
    "\n",
    "ax.set_xlim(-20, 15)\n",
    "ax.set_ylim(17, 25)\n",
    "ax.set_xlabel(r'$\\phi_1$')\n",
    "ax.set_ylabel('D_kpc')\n",
    "\n",
    "fig.tight_layout()\n"
   ]
  },
  {
   "cell_type": "code",
   "execution_count": null,
   "metadata": {},
   "outputs": [],
   "source": []
  },
  {
   "cell_type": "code",
   "execution_count": null,
   "metadata": {},
   "outputs": [],
   "source": []
  },
  {
   "cell_type": "code",
   "execution_count": null,
   "metadata": {},
   "outputs": [],
   "source": []
  }
 ],
 "metadata": {
  "kernelspec": {
   "display_name": "Python [conda env:root] *",
   "language": "python",
   "name": "conda-root-py"
  },
  "language_info": {
   "codemirror_mode": {
    "name": "ipython"
   },
   "file_extension": ".py",
   "mimetype": "text/x-python",
   "name": "python",
   "nbconvert_exporter": "python"
  }
 },
 "nbformat": 4,
 "nbformat_minor": 2
}
