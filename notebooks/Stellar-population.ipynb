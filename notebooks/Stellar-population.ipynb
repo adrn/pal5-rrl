{
 "cells": [
  {
   "cell_type": "markdown",
   "metadata": {},
   "source": [
    "old notebook from KITP..."
   ]
  },
  {
   "cell_type": "code",
   "execution_count": null,
   "metadata": {},
   "outputs": [],
   "source": [
    "import pickle\n",
    "\n",
    "import numpy as np\n",
    "import matplotlib as mpl\n",
    "import matplotlib.pyplot as plt\n",
    "%matplotlib inline\n",
    "\n",
    "import astropy.coordinates as coord\n",
    "from astropy.coordinates.matrix_utilities import rotation_matrix\n",
    "from astropy.table import Table\n",
    "from astropy.io import fits\n",
    "import astropy.units as u\n",
    "from ezmist import get_one_isochrone\n",
    "from scipy.ndimage import gaussian_filter\n",
    "from scipy.interpolate import InterpolatedUnivariateSpline\n",
    "\n",
    "import gala.coordinates as gc\n",
    "import gala.dynamics as gd\n",
    "import gala.potential as gp\n",
    "import gala.mpl_style\n",
    "\n",
    "from pyia import GaiaData\n",
    "\n",
    "from coordinates import pal5_c, galcen_frame, pal5_lead_frame, pal5_trail_frame\n",
    "from coordinates import trail_epts, lead_epts"
   ]
  },
  {
   "cell_type": "code",
   "execution_count": null,
   "metadata": {},
   "outputs": [],
   "source": [
    "t = Table.read('../data/pal5-apw-filtered.fits')\n",
    "c = coord.SkyCoord(ra=t['ra']*u.deg, dec=t['dec']*u.deg)\n",
    "\n",
    "c_l = c.transform_to(pal5_lead_frame)\n",
    "c_t = c.transform_to(pal5_trail_frame)\n",
    "\n",
    "Xl = np.stack((c_l.phi1.wrap_at(180*u.deg).degree,\n",
    "               c_l.phi2.degree)).T\n",
    "\n",
    "Xt = np.stack((c_t.phi1.wrap_at(180*u.deg).degree,\n",
    "               c_t.phi2.degree)).T"
   ]
  },
  {
   "cell_type": "markdown",
   "metadata": {},
   "source": [
    "# Select RR Lyrae:"
   ]
  },
  {
   "cell_type": "code",
   "execution_count": null,
   "metadata": {},
   "outputs": [],
   "source": [
    "t = Table.read('/Users/adrian/data/streams/Pal5/pal5_rrl_inside_canonical_footprint.csv')\n",
    "t.rename_column('ra_2', 'ra')\n",
    "t.rename_column('dec_2', 'dec')\n",
    "\n",
    "rrl = GaiaData(t)\n",
    "rrl = rrl[(rrl.D_kpc > 18) & (rrl.D_kpc < 24)]"
   ]
  },
  {
   "cell_type": "code",
   "execution_count": null,
   "metadata": {},
   "outputs": [],
   "source": [
    "# plt.scatter(coord.Distance(distmod=rrl.DM).kpc,\n",
    "#             rrl.D_kpc - coord.Distance(distmod=rrl.DM).kpc)\n",
    "# plt.xlim(5, 40)\n",
    "# plt.ylim(-10, 10)"
   ]
  },
  {
   "cell_type": "code",
   "execution_count": null,
   "metadata": {},
   "outputs": [],
   "source": [
    "rrl_c = rrl.get_skycoord(distance=rrl.D_kpc*u.kpc)\n",
    "rrl_c_pal5 = rrl_c.transform_to(gc.Pal5PriceWhelan18)\n",
    "rrl_c_pal5_ref = gc.reflex_correct(rrl_c_pal5)\n",
    "rrl_c_l = rrl_c.transform_to(pal5_lead_frame)\n",
    "rrl_c_t = rrl_c.transform_to(pal5_trail_frame)"
   ]
  },
  {
   "cell_type": "code",
   "execution_count": null,
   "metadata": {},
   "outputs": [],
   "source": [
    "fig, ax = plt.subplots(1, 1, figsize=(6, 6))\n",
    "ax.scatter(rrl_c_pal5.pm_phi1_cosphi2,\n",
    "           rrl_c_pal5.pm_phi2,\n",
    "           marker='o', alpha=0.5,\n",
    "           vmin=-20, vmax=20)\n",
    "ax.set_xlim(-1, 9)\n",
    "ax.set_ylim(-5, 5)\n",
    "\n",
    "ax.set_xlabel(r'$\\mu_{\\phi_1}$')\n",
    "ax.set_ylabel(r'$\\mu_{\\phi_2}$')"
   ]
  },
  {
   "cell_type": "code",
   "execution_count": null,
   "metadata": {},
   "outputs": [],
   "source": [
    "for X, _c in zip([Xl, Xt],\n",
    "                 [rrl_c_l, rrl_c_t]):\n",
    "    fig, ax = plt.subplots(1, 1, figsize=(10, 5))\n",
    "\n",
    "    ax.plot(X[:, 0], X[:, 1],\n",
    "            marker='o', ls='none', \n",
    "            color='k', alpha=0.25, ms=2)\n",
    "    \n",
    "    ax.scatter(_c.phi1.wrap_at(180*u.deg).degree,\n",
    "               _c.phi2.degree, color='tab:orange', \n",
    "               lw=1., edgecolor='#666666', s=50)\n",
    "\n",
    "    ax.set_xlim(0, 20.)\n",
    "    ax.set_ylim(-1.5, 1.5)\n",
    "    # ax.set_aspect('equal')\n",
    "\n",
    "    ax.set_xlabel(r'$\\phi_1$ [deg]')\n",
    "    ax.set_ylabel(r'$\\phi_2$ [deg]')\n",
    "\n",
    "    fig.tight_layout()\n",
    "    fig.set_facecolor('w')"
   ]
  },
  {
   "cell_type": "code",
   "execution_count": null,
   "metadata": {},
   "outputs": [],
   "source": [
    "fig, ax = plt.subplots(1, 1, figsize=(6, 6))\n",
    "ax.scatter(rrl_c_pal5.pm_phi1_cosphi2,\n",
    "           rrl_c_pal5.pm_phi2,\n",
    "# ax.scatter(rrl_c_pal5_ref.pm_phi1_cosphi2,\n",
    "#            rrl_c_pal5_ref.pm_phi2,\n",
    "           marker='o', \n",
    "           vmin=-20, vmax=20)\n",
    "ax.set_xlim(1, 7)\n",
    "ax.set_ylim(-3, 3)\n",
    "\n",
    "ax.set_xlabel(r'$\\mu_{\\phi_1}$')\n",
    "ax.set_ylabel(r'$\\mu_{\\phi_2}$')\n",
    "\n",
    "pm_mask = ((rrl_c_pal5.pm_phi1_cosphi2 > 3*u.mas/u.yr) & \n",
    "           (rrl_c_pal5.pm_phi1_cosphi2 < 4.5*u.mas/u.yr) & \n",
    "           (rrl_c_pal5.pm_phi2 > 0*u.mas/u.yr) & \n",
    "           (rrl_c_pal5.pm_phi2 < 1.2*u.mas/u.yr))"
   ]
  },
  {
   "cell_type": "code",
   "execution_count": null,
   "metadata": {},
   "outputs": [],
   "source": [
    "fig, axes = plt.subplots(3, 1, figsize=(15, 8), \n",
    "                         sharex=True)\n",
    "\n",
    "ax = axes[0]\n",
    "ax.plot(rrl_c_pal5.phi1.wrap_at(180*u.deg).degree[pm_mask],\n",
    "        rrl_c.distance[pm_mask], \n",
    "        marker='o', ls='none', alpha=0.5, color='k')\n",
    "ax.set_xlim(-25, 25)\n",
    "# ax.set_ylim(10, 35)\n",
    "# ax.set_xlim(-10, 10)\n",
    "ax.set_ylim(17, 25)\n",
    "\n",
    "ax = axes[1]\n",
    "ax.plot(rrl_c_pal5.phi1.wrap_at(180*u.deg).degree[pm_mask],\n",
    "        rrl_c_pal5.pm_phi1_cosphi2[pm_mask], \n",
    "        marker='o', ls='none', alpha=0.5, color='k')\n",
    "\n",
    "ax = axes[2]\n",
    "ax.plot(rrl_c_pal5.phi1.wrap_at(180*u.deg).degree[pm_mask],\n",
    "        rrl_c_pal5.pm_phi2[pm_mask], \n",
    "        marker='o', ls='none', alpha=0.5, color='k')\n",
    "\n",
    "ax.xaxis.set_ticks(np.arange(-25, 25+1e-3, 5));"
   ]
  },
  {
   "cell_type": "code",
   "execution_count": null,
   "metadata": {},
   "outputs": [],
   "source": [
    "for X, _c in zip([Xl, Xt],\n",
    "                 [rrl_c_l, rrl_c_t]):\n",
    "    fig, ax = plt.subplots(1, 1, figsize=(10, 5))\n",
    "\n",
    "    ax.plot(X[:, 0], X[:, 1],\n",
    "            marker='o', ls='none', \n",
    "            color='k', alpha=0.25, ms=2)\n",
    "    \n",
    "    ax.scatter(_c.phi1.wrap_at(180*u.deg).degree[pm_mask],\n",
    "               _c.phi2.degree[pm_mask], \n",
    "               color='tab:orange', zorder=10,\n",
    "               lw=1., edgecolor='#666666', s=50)\n",
    "\n",
    "    ax.set_xlim(0, 25.)\n",
    "    ax.set_ylim(-2.5, 2.5)\n",
    "    # ax.set_aspect('equal')\n",
    "\n",
    "    ax.set_xlabel(r'$\\phi_1$ [deg]')\n",
    "    ax.set_ylabel(r'$\\phi_2$ [deg]')\n",
    "\n",
    "    fig.tight_layout()\n",
    "    fig.set_facecolor('w')"
   ]
  },
  {
   "cell_type": "code",
   "execution_count": null,
   "metadata": {},
   "outputs": [],
   "source": [
    "d_interp = InterpolatedUnivariateSpline([-22., -5, 0, 5],\n",
    "                                        [23., 21, 20.5, 19.5],\n",
    "                                        bbox=[-25, 25])"
   ]
  },
  {
   "cell_type": "markdown",
   "metadata": {},
   "source": [
    "---\n",
    "\n",
    "## Load photometry and shit"
   ]
  },
  {
   "cell_type": "code",
   "execution_count": null,
   "metadata": {},
   "outputs": [],
   "source": [
    "a2ebv = [3.995, 3.214, 2.165, 1.592, 1.211, 1.064]\n",
    "t = Table.read('../data/pal5_ls_lite.fits')\n",
    "t = t[(22.5 - 2.5*np.log10(t['flux_g']) - t['ebv']*a2ebv[1]) < 23.5] # de-reddened g cut\n",
    "c = coord.SkyCoord(ra=t['ra']*u.deg, dec=t['dec']*u.deg)"
   ]
  },
  {
   "cell_type": "code",
   "execution_count": null,
   "metadata": {},
   "outputs": [],
   "source": [
    "c_pal5 = c.transform_to(gc.Pal5PriceWhelan18)\n",
    "phi1 = c_pal5.phi1.wrap_at(180*u.deg)"
   ]
  },
  {
   "cell_type": "code",
   "execution_count": null,
   "metadata": {},
   "outputs": [],
   "source": [
    "g0 = 22.5 - 2.5*np.log10(t['flux_g']) - t['ebv']*a2ebv[1]\n",
    "r0 = 22.5 - 2.5*np.log10(t['flux_r']) - t['ebv']*a2ebv[2]"
   ]
  },
  {
   "cell_type": "markdown",
   "metadata": {},
   "source": [
    "### Shift CMD by distance"
   ]
  },
  {
   "cell_type": "code",
   "execution_count": null,
   "metadata": {},
   "outputs": [],
   "source": [
    "coord.Distance(d_interp(-20)*u.kpc).distmod, coord.Distance(d_interp(10)*u.kpc).distmod"
   ]
  },
  {
   "cell_type": "code",
   "execution_count": null,
   "metadata": {},
   "outputs": [],
   "source": [
    "M_g = g0 - coord.Distance(d_interp(-20)*u.kpc).distmod.value"
   ]
  },
  {
   "cell_type": "markdown",
   "metadata": {},
   "source": [
    "## Stellar pop along leading, trailing arms:"
   ]
  },
  {
   "cell_type": "code",
   "execution_count": null,
   "metadata": {},
   "outputs": [],
   "source": [
    "pal5_lead = Table.read('../data/pal5_lead_samples.fits')\n",
    "pal5_trail = Table.read('../data/pal5_trail_samples.fits')"
   ]
  },
  {
   "cell_type": "code",
   "execution_count": null,
   "metadata": {},
   "outputs": [],
   "source": [
    "lead_c = c.transform_to(pal5_lead_frame)\n",
    "trail_c = c.transform_to(pal5_trail_frame)"
   ]
  },
  {
   "cell_type": "code",
   "execution_count": null,
   "metadata": {},
   "outputs": [],
   "source": [
    "stream_mask = np.zeros(len(c), dtype=bool)\n",
    "control_mask = np.zeros(len(c), dtype=bool)\n",
    "for cc, tbl, name in zip([lead_c, trail_c],\n",
    "                         [pal5_lead, pal5_trail],\n",
    "                         ['lead', 'trail']):\n",
    "    with open('ctl_paths_{}.pkl'.format(name), 'rb') as _f:\n",
    "        ctl_paths = pickle.load(_f)\n",
    "\n",
    "    with open('str_path_{}.pkl'.format(name), 'rb') as _f:\n",
    "        str_path = pickle.load(_f)\n",
    "        \n",
    "    X = np.stack((cc.phi1.degree, \n",
    "                  cc.phi2.degree)).T\n",
    "    stream_mask |= str_path.contains_points(X)\n",
    "    control_mask |= ctl_paths[0].contains_points(X) | ctl_paths[1].contains_points(X)"
   ]
  },
  {
   "cell_type": "code",
   "execution_count": null,
   "metadata": {},
   "outputs": [],
   "source": [
    "iso = Table.read('/Users/adrian/data/Isochrones/MIST/FeH_-1.3_iso.fits')\n",
    "iso1 = iso[iso['log10_isochrone_age_yr'] == 10.1]\n",
    "phasecut = (iso1['phase'] >= 0) & (iso1['phase'] < 4)\n",
    "iso1 = iso1[phasecut]\n",
    "\n",
    "iso_g = iso1['dec_g']\n",
    "iso_r = iso1['dec_r']"
   ]
  },
  {
   "cell_type": "code",
   "execution_count": null,
   "metadata": {},
   "outputs": [],
   "source": [
    "fig, axes = plt.subplots(1, 3, figsize=(15, 6), \n",
    "                         sharex=True, sharey=True)\n",
    "\n",
    "cmd_bins = (np.arange(-0.5, 1.1+1e-3, 0.02),\n",
    "            np.arange(0, 7+1e-3, 0.04))\n",
    "\n",
    "cl_mask = c.separation(pal5_c) < 0.15*u.deg\n",
    "\n",
    "tail_mask = np.logical_not(cl_mask)\n",
    "\n",
    "ax = axes[0]\n",
    "H1, xe, ye = np.histogram2d((g0-r0)[stream_mask & tail_mask],\n",
    "                            M_g[stream_mask & tail_mask],\n",
    "                            bins=cmd_bins)\n",
    "ax.pcolormesh(xe, ye, H1.T, cmap='magma')\n",
    "\n",
    "ax = axes[1]\n",
    "H2, xe, ye = np.histogram2d((g0-r0)[control_mask & tail_mask],\n",
    "                            M_g[control_mask & tail_mask],\n",
    "                            bins=cmd_bins)\n",
    "ax.pcolormesh(xe, ye, H2.T, cmap='magma')\n",
    "\n",
    "ax = axes[2]\n",
    "H1 = gaussian_filter(H1, 1)\n",
    "H2 = gaussian_filter(H2, 1)\n",
    "ax.pcolormesh(xe, ye, (H1 - H2).T, cmap='Greys', \n",
    "              norm=mpl.colors.LogNorm(vmin=0.5, vmax=20))\n",
    "\n",
    "ax.set_xlim(-0.5, 1.1)\n",
    "ax.set_ylim(7, 0)\n",
    "\n",
    "fig.tight_layout()"
   ]
  },
  {
   "cell_type": "markdown",
   "metadata": {},
   "source": [
    "## Stars in the cluster itself"
   ]
  },
  {
   "cell_type": "code",
   "execution_count": null,
   "metadata": {},
   "outputs": [],
   "source": [
    "fig, ax = plt.subplots(1, 1, figsize=(6, 6))\n",
    "ax.plot(c.ra.deg, c.dec.deg,\n",
    "        marker='.', ls='none', alpha=0.5)\n",
    "\n",
    "lim1 = 0.075 * u.deg\n",
    "lim2 = 0.2 * u.deg \n",
    "ax.add_patch(mpl.patches.Circle((pal5_c.ra.deg, pal5_c.dec.deg),\n",
    "                                radius=lim1.value, facecolor='k', \n",
    "                                alpha=0.2, zorder=100))\n",
    "\n",
    "ax.add_patch(mpl.patches.Circle((pal5_c.ra.deg, pal5_c.dec.deg),\n",
    "                                radius=lim2.value, facecolor='k', \n",
    "                                alpha=0.2, zorder=100))\n",
    "\n",
    "ax.set_xlim(pal5_c.ra.deg+1, pal5_c.ra.deg-1)\n",
    "ax.set_ylim(pal5_c.dec.deg-1, pal5_c.dec.deg+1)"
   ]
  },
  {
   "cell_type": "code",
   "execution_count": null,
   "metadata": {},
   "outputs": [],
   "source": [
    "cl_mask = (c.separation(pal5_c) > lim1) & (c.separation(pal5_c) < lim2)\n",
    "cl_mask.sum()"
   ]
  },
  {
   "cell_type": "code",
   "execution_count": null,
   "metadata": {},
   "outputs": [],
   "source": [
    "A = (lim2**2 - lim1**2)\n",
    "r1 = np.sqrt(A)\n",
    "off1 = coord.SkyCoord(228.4*u.deg, 0.25*u.deg)\n",
    "bg_mask = (c.separation(off1) < r1)\n",
    "bg_mask.sum()"
   ]
  },
  {
   "cell_type": "code",
   "execution_count": null,
   "metadata": {},
   "outputs": [],
   "source": [
    "iso = Table.read('/Users/adrian/data/Isochrones/MIST/FeH_-1.3_iso.fits')\n",
    "iso1 = iso[iso['log10_isochrone_age_yr'] == 10.1]\n",
    "phasecut = (iso1['phase'] >= 0) & (iso1['phase'] < 4)\n",
    "iso1 = iso1[phasecut]\n",
    "\n",
    "iso_g = iso1['dec_g']\n",
    "iso_r = iso1['dec_r']\n",
    "\n",
    "# ---\n",
    "\n",
    "iso2 = iso[iso['log10_isochrone_age_yr'] == 9.5]\n",
    "phasecut = (iso2['phase'] >= 0) & (iso2['phase'] < 4)\n",
    "iso2 = iso2[phasecut]\n",
    "\n",
    "iso2_g = iso2['dec_g']\n",
    "iso2_r = iso2['dec_r']"
   ]
  },
  {
   "cell_type": "code",
   "execution_count": null,
   "metadata": {},
   "outputs": [],
   "source": [
    "fig, axes = plt.subplots(1, 3, figsize=(15, 5),\n",
    "                         sharex=True, sharey=True)\n",
    "\n",
    "ax = axes[0]\n",
    "ax.plot((g0-r0)[cl_mask], \n",
    "        M_g[cl_mask],\n",
    "        marker='o', ls='none', \n",
    "        alpha=0.24, color='k')\n",
    "\n",
    "ax = axes[1]\n",
    "ax.plot((g0-r0)[bg_mask], \n",
    "        M_g[bg_mask],\n",
    "        marker='o', ls='none', \n",
    "        alpha=0.24, color='k')\n",
    "\n",
    "ax = axes[2]\n",
    "bins = (np.arange(-0.5, 1.+1e-3, 0.02),\n",
    "        np.arange(0, 7+1e-3, 0.05))\n",
    "H1, xe, ye = np.histogram2d((g0-r0)[cl_mask], g0[cl_mask], bins=bins)\n",
    "H2, xe, ye = np.histogram2d((g0-r0)[bg_mask], g0[bg_mask], bins=bins)\n",
    "\n",
    "H1 = gaussian_filter(H1, 1.5)\n",
    "H2 = gaussian_filter(H2, 1.5)\n",
    "\n",
    "ax.pcolormesh(xe, ye, (H1 - H2).T,\n",
    "              cmap='Greys', \n",
    "              norm=mpl.colors.LogNorm(vmin=1e-2, vmax=10))\n",
    "\n",
    "ax = axes[0]\n",
    "ax.plot(iso_g-iso_r - 0.01*(iso_g-3.5)**1.5, \n",
    "        iso_g-0.15)\n",
    "ax.plot(iso_g-iso_r + 0.1 + 0.01*(iso_g-3.5)**1.5, \n",
    "        iso_g-0.15)\n",
    "poly1 = np.stack((iso_g-iso_r - 0.01*(iso_g-3.5)**1.5, \n",
    "                  iso_g-0.15)).T\n",
    "poly2 = np.stack((iso_g-iso_r + 0.1 + 0.01*(iso_g-3.5)**1.5, \n",
    "                  iso_g-0.15)).T\n",
    "grg_path = mpl.path.Path(np.vstack((poly2[poly2[:, 1]<6.8][::-1],\n",
    "                                    poly1[poly1[:, 1]<6.8])))\n",
    "# ax.add_patch(mpl.patches.Polygon(grg_path.vertices))\n",
    "\n",
    "ax.set_xlim(-0.5, 1.)\n",
    "ax.set_ylim(7, 0)\n",
    "\n",
    "fig.tight_layout()"
   ]
  },
  {
   "cell_type": "code",
   "execution_count": null,
   "metadata": {},
   "outputs": [],
   "source": [
    "poly_mask = grg_path.contains_points(np.stack((g0-r0, M_g)).T[cl_mask])\n",
    "poly_mask_bg = grg_path.contains_points(np.stack((g0-r0, M_g)).T[bg_mask])\n",
    "\n",
    "poly_mask_tail = grg_path.contains_points(np.stack((g0-r0, M_g)).T[stream_mask & tail_mask])\n",
    "poly_mask_bg_tail = grg_path.contains_points(np.stack((g0-r0, M_g)).T[control_mask & tail_mask])"
   ]
  },
  {
   "cell_type": "code",
   "execution_count": null,
   "metadata": {},
   "outputs": [],
   "source": [
    "g_bins = np.arange(3, 7+1e-3, 0.5)\n",
    "N_cl, _ = np.histogram(M_g[cl_mask][poly_mask], g_bins)\n",
    "N_cl_bg, _ = np.histogram(M_g[bg_mask][poly_mask_bg], g_bins)\n",
    "\n",
    "N_tail, _ = np.histogram(M_g[stream_mask & tail_mask][poly_mask_tail], g_bins)\n",
    "N_tail_bg, _ = np.histogram(M_g[control_mask & tail_mask][poly_mask_bg_tail], g_bins)\n",
    "\n",
    "g_bin_c = 0.5*(g_bins[:-1]+g_bins[1:])\n",
    "\n",
    "plt.errorbar(g_bin_c, N_cl,\n",
    "             np.sqrt(N_cl), \n",
    "             ls='none', marker='o')\n",
    "\n",
    "plt.errorbar(g_bin_c, N_cl_bg,\n",
    "             np.sqrt(N_cl_bg), \n",
    "             ls='none', marker='o')\n",
    "\n",
    "plt.errorbar(g_bin_c, N_cl - N_cl_bg,\n",
    "             np.sqrt(N_cl - N_cl_bg), \n",
    "             ls='none', marker='o', color='k')"
   ]
  },
  {
   "cell_type": "code",
   "execution_count": null,
   "metadata": {},
   "outputs": [],
   "source": [
    "kroupa_ms = np.load('/Users/adrian/Downloads/kroupa_masses.npy')"
   ]
  },
  {
   "cell_type": "code",
   "execution_count": null,
   "metadata": {},
   "outputs": [],
   "source": [
    "def dN_dm_Grillmair(m, a=0.02, b=1.):\n",
    "    return 2/3*(b**1.5-a**1.5) * m**0.5"
   ]
  },
  {
   "cell_type": "code",
   "execution_count": null,
   "metadata": {},
   "outputs": [],
   "source": [
    "ymax = dN_dm_Grillmair(np.linspace(0.4,1,1024), 0.4, 1.).max()\n",
    "xs = np.random.uniform(0.4, 1., size=500000)\n",
    "ys = np.random.uniform(0, ymax, size=500000)\n",
    "grillmair_ms = xs[ys < dN_dm_Grillmair(xs, 0.4, 1.)]"
   ]
  },
  {
   "cell_type": "code",
   "execution_count": null,
   "metadata": {},
   "outputs": [],
   "source": [
    "x = iso1['star_mass'][iso1['phase'] < 2]\n",
    "y = iso_g[iso1['phase'] < 2]\n",
    "interp_m2g = InterpolatedUnivariateSpline(x[np.argsort(x)], \n",
    "                                          y[np.argsort(x)],\n",
    "                                          ext=1)\n",
    "interp_g2m = InterpolatedUnivariateSpline(y[np.argsort(y)], \n",
    "                                          x[np.argsort(y)],\n",
    "                                          ext=1)"
   ]
  },
  {
   "cell_type": "code",
   "execution_count": null,
   "metadata": {},
   "outputs": [],
   "source": [
    "kroupa_gs = interp_m2g(kroupa_ms[:100000])\n",
    "grillmair_gs = interp_m2g(grillmair_ms)"
   ]
  },
  {
   "cell_type": "code",
   "execution_count": null,
   "metadata": {},
   "outputs": [],
   "source": [
    "N_kr, _ = np.histogram(kroupa_gs, g_bins)\n",
    "N_gr, _ = np.histogram(grillmair_gs, g_bins)\n",
    "\n",
    "fig, axes = plt.subplots(1, 2, figsize=(10, 5),\n",
    "                         sharex=True)\n",
    "\n",
    "ax = axes[0]\n",
    "for ax, Nnorm in zip(axes, [(N_cl - N_cl_bg)[1],\n",
    "                            (N_tail - N_tail_bg)[1]]):\n",
    "    ax.plot(g_bin_c, N_kr / N_kr[1] * Nnorm, \n",
    "            marker='', drawstyle='steps-mid',\n",
    "            label='kroupa')\n",
    "    \n",
    "    ax.plot(g_bin_c, N_gr / N_gr[1] * Nnorm, \n",
    "            marker='', drawstyle='steps-mid',\n",
    "            label='kroupa')\n",
    "\n",
    "axes[0].errorbar(g_bin_c, N_cl - N_cl_bg,\n",
    "             np.sqrt(N_cl - N_cl_bg), \n",
    "             ls='none', marker='o',\n",
    "            color='k',\n",
    "             label='pal 5 cluster LF')\n",
    "\n",
    "axes[1].errorbar(g_bin_c, N_tail - N_tail_bg,\n",
    "             np.sqrt(N_tail - N_tail_bg), \n",
    "             ls='none', marker='o', \n",
    "             color='tab:red',\n",
    "             label='pal 5 stream LF')\n",
    "\n",
    "ax.set_xlim(3, 7)\n",
    "ax.xaxis.set_ticks(np.arange(3, 7+1e-3, 0.5))\n",
    "\n",
    "for ax in axes:\n",
    "    ax.set_xlabel('$g$ [mag]')\n",
    "axes[0].set_ylabel('$N$')\n",
    "\n",
    "axes[0].set_title('Cluster')\n",
    "axes[1].set_title('Stream')\n",
    "\n",
    "fig.set_facecolor('w')"
   ]
  },
  {
   "cell_type": "code",
   "execution_count": null,
   "metadata": {},
   "outputs": [],
   "source": []
  },
  {
   "cell_type": "code",
   "execution_count": null,
   "metadata": {},
   "outputs": [],
   "source": []
  }
 ],
 "metadata": {
  "kernelspec": {
   "display_name": "Python 3",
   "language": "python",
   "name": "python3"
  },
  "language_info": {
   "codemirror_mode": {
    "name": "ipython",
    "version": 3
   },
   "file_extension": ".py",
   "mimetype": "text/x-python",
   "name": "python",
   "nbconvert_exporter": "python",
   "pygments_lexer": "ipython3",
   "version": "3.7.3"
  }
 },
 "nbformat": 4,
 "nbformat_minor": 2
}
