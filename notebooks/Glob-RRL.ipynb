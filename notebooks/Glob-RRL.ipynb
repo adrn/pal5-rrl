{
 "cells": [
  {
   "cell_type": "code",
   "execution_count": null,
   "metadata": {},
   "outputs": [],
   "source": [
    "from os import path\n",
    "\n",
    "import astropy.coordinates as coord\n",
    "import astropy.table as at\n",
    "import astropy.units as u\n",
    "import matplotlib as mpl\n",
    "import matplotlib.pyplot as plt\n",
    "%matplotlib inline\n",
    "import numpy as np\n",
    "from tqdm import tqdm\n",
    "from sklearn.neighbors import KernelDensity\n",
    "\n",
    "# gala\n",
    "import gala.coordinates as gc\n",
    "import gala.integrate as gi\n",
    "import gala.dynamics as gd\n",
    "import gala.potential as gp\n",
    "from gala.units import galactic\n",
    "\n",
    "from pyia import GaiaData"
   ]
  },
  {
   "cell_type": "code",
   "execution_count": null,
   "metadata": {},
   "outputs": [],
   "source": [
    "mw_pot = gp.MilkyWayPotential()\n",
    "gc_frame = coord.Galactocentric(galcen_distance=8.1*u.kpc, # GRAVITY\n",
    "                                z_sun=27*u.pc) "
   ]
  },
  {
   "cell_type": "code",
   "execution_count": null,
   "metadata": {},
   "outputs": [],
   "source": [
    "suh = at.Table.read('/Users/apricewhelan/data/GaiaDR2/DR2_RRL_nocontam.csv.gz', \n",
    "                    format='ascii.csv')\n",
    "rrl = GaiaData(suh)"
   ]
  },
  {
   "cell_type": "code",
   "execution_count": null,
   "metadata": {},
   "outputs": [],
   "source": [
    "baum_tbl = at.Table.read(path.expanduser('~/data/Misc/Baumgardt-globclust.fits'))\n",
    "vasi_tbl = at.Table.read(path.expanduser('~/data/Misc/Vasiliev-globclust.txt'), \n",
    "                         format='ascii.fixed_width')"
   ]
  },
  {
   "cell_type": "code",
   "execution_count": null,
   "metadata": {},
   "outputs": [],
   "source": [
    "ix1 = []\n",
    "ix2 = []\n",
    "for i, row in enumerate(baum_tbl):\n",
    "    name = row['Name']\n",
    "    \n",
    "    # HACKS:\n",
    "    if 'Ter' in name:\n",
    "        name = name.replace('Ter', 'Terzan')\n",
    "    elif 'Lil' in name:\n",
    "        name = name.replace('Lil', 'Liller')\n",
    "    elif name == 'ESO 452-SC11':\n",
    "        name = 'ESO 452-11'\n",
    "    \n",
    "    for j, vrow in enumerate(vasi_tbl):\n",
    "        if name in vrow['Name']:\n",
    "            ix1.append(i)\n",
    "            ix2.append(j)\n",
    "            break\n",
    "    else:\n",
    "        print(name + ' not found')\n",
    "            \n",
    "ix1 = np.array(ix1)\n",
    "ix2 = np.array(ix2)\n",
    "\n",
    "tbl = at.hstack((baum_tbl[ix1], vasi_tbl[ix2]))\n",
    "\n",
    "tbl = tbl[np.isfinite(tbl['D']) & np.isfinite(tbl['Vlos'])]"
   ]
  },
  {
   "cell_type": "code",
   "execution_count": null,
   "metadata": {},
   "outputs": [],
   "source": [
    "nsamples = 128\n",
    "dist_samples = np.random.normal(tbl['D'], 0.1 * tbl['D'],\n",
    "                                size=(nsamples, len(tbl)))\n",
    "pm_samples = np.zeros((2, nsamples, len(tbl)))\n",
    "for i in range(len(tbl)):\n",
    "    row = tbl[i]\n",
    "    x = [row['PMRA'], row['PMDEC']]\n",
    "    C = np.diag([row['ePMRA'], row['ePMDEC']]) ** 2\n",
    "    C[0, 1] = C[1, 0] = row['ePMRA'] * row['ePMDEC'] * row['corrPM']\n",
    "    pm_samples[:, :, i] = np.random.multivariate_normal(x, C, size=nsamples).T\n",
    "    \n",
    "vr_samples = np.random.normal(tbl['Vlos'], tbl['eVlos'],\n",
    "                              size=(nsamples, len(tbl)))\n",
    "\n",
    "ra_samples = np.repeat(tbl['RA'][None], nsamples, axis=0)\n",
    "dec_samples = np.repeat(tbl['DEC'][None], nsamples, axis=0)"
   ]
  },
  {
   "cell_type": "code",
   "execution_count": null,
   "metadata": {},
   "outputs": [],
   "source": [
    "c = coord.SkyCoord(ra=ra_samples*u.deg,\n",
    "                   dec=dec_samples*u.deg,\n",
    "                   distance=dist_samples*u.kpc,\n",
    "                   pm_ra_cosdec=pm_samples[0]*u.mas/u.yr,\n",
    "                   pm_dec=pm_samples[1]*u.mas/u.yr,\n",
    "                   radial_velocity=vr_samples*u.km/u.s)\n",
    "c = c.T\n",
    "\n",
    "w0 = gd.PhaseSpacePosition(c.transform_to(gc_frame).cartesian)"
   ]
  },
  {
   "cell_type": "markdown",
   "metadata": {},
   "source": [
    "From GC-Orbits-Monte-Carlo.ipynb:"
   ]
  },
  {
   "cell_type": "code",
   "execution_count": null,
   "metadata": {},
   "outputs": [],
   "source": [
    "df = gd.FardalStreamDF()"
   ]
  },
  {
   "cell_type": "code",
   "execution_count": null,
   "metadata": {},
   "outputs": [],
   "source": [
    "names = ['NGC 6809', 'NGC 288', 'NGC 5897', 'NGC 6362', 'IC 4499', \n",
    "         'NGC 7099', 'Pal 13', 'NGC 6144', 'NGC 6101', 'NGC 1904']"
   ]
  },
  {
   "cell_type": "code",
   "execution_count": null,
   "metadata": {},
   "outputs": [],
   "source": [
    "for name in names:\n",
    "    row = tbl[tbl['Name_1'] == name]\n",
    "    this_w0 = w0[tbl['Name_1'] == name][0]\n",
    "    \n",
    "    # Run mock stream models from samples from the orbit error distribution:\n",
    "    mass = row['mass'][0]*u.Msun\n",
    "    prog_pot = gp.PlummerPotential(m=mass, \n",
    "                                   b=row['r_hm'][0] / 1.3 * u.pc,\n",
    "                                   units=galactic)\n",
    "    \n",
    "    gen = gd.MockStreamGenerator(df, mw_pot,\n",
    "                                 progenitor_potential=prog_pot)\n",
    "    \n",
    "    streams = []\n",
    "    for i in tqdm(range(32)):\n",
    "        stream, _ = gen.run(this_w0[i], mass, release_every=8,\n",
    "                            dt=-1*u.Myr, n_steps=2000)\n",
    "\n",
    "        streams.append(stream)\n",
    "        \n",
    "    # Now transform to sky coordinates, centered on the cluster:\n",
    "    fr = coord.SkyOffsetFrame(origin=coord.ICRS(ra=row['RA'][0]*u.deg, \n",
    "                                                dec=row['DEC'][0]*u.deg))\n",
    "\n",
    "    all_sky = []\n",
    "    for stream in streams:\n",
    "        stream_c = stream.to_coord_frame(fr, galactocentric_frame=gc_frame)\n",
    "        all_sky.append(np.stack((stream_c.lon.wrap_at(180*u.deg).degree, \n",
    "                                 stream_c.lat.degree)).T)\n",
    "\n",
    "    all_sky = np.vstack(all_sky)\n",
    "    all_sky = all_sky[np.sqrt(all_sky[:, 0]**2 + all_sky[:, 1]**2) > 0.25]\n",
    "    \n",
    "    # Predict where we expect to see tidal debris:\n",
    "    kde = KernelDensity(bandwidth=0.2)\n",
    "    _ = kde.fit(all_sky)\n",
    "\n",
    "    grid = np.arange(-10, 10+1e-3, 0.25)\n",
    "    xgrid, ygrid = np.meshgrid(grid, grid)\n",
    "    X_grid = np.stack((xgrid.ravel(), ygrid.ravel())).T\n",
    "\n",
    "    H = np.exp(kde.score_samples(X_grid))\n",
    "    H = H.reshape(grid.size, grid.size)\n",
    "    \n",
    "    # --- plot\n",
    "    \n",
    "    fig, ax = plt.subplots(1, 1, figsize=(6.2, 6))\n",
    "    ax.pcolormesh(xgrid, ygrid, H)\n",
    "\n",
    "    ax.set_xlabel(r'$\\phi_1$')\n",
    "    ax.set_ylabel(r'$\\phi_2$')\n",
    "\n",
    "    ax.set_title('Predicted stream ({})'.format(row['Name_1'][0]), \n",
    "                 fontsize=16)\n",
    "\n",
    "    for axis in [ax.xaxis, ax.yaxis]:\n",
    "        axis.set_ticks(np.arange(-10, 10+1e-3, 5))\n",
    "\n",
    "    fig.set_facecolor('w')\n",
    "\n",
    "    fig.tight_layout()\n",
    "    fig.savefig('../plots/predicted-debris-{}.png'.format(row['Name_1'][0].replace(' ', '_')),\n",
    "                dpi=250)"
   ]
  },
  {
   "cell_type": "markdown",
   "metadata": {},
   "source": [
    "---"
   ]
  },
  {
   "cell_type": "code",
   "execution_count": null,
   "metadata": {},
   "outputs": [],
   "source": [
    "# row = tbl[tbl['Name_1'] == 'NGC 5897']\n",
    "row = tbl[tbl['Name_1'] == 'Pal 13']\n",
    "\n",
    "# Now transform to sky coordinates, centered on the cluster:\n",
    "fr = coord.SkyOffsetFrame(origin=coord.ICRS(ra=row['RA'][0]*u.deg, \n",
    "                                            dec=row['DEC'][0]*u.deg))"
   ]
  },
  {
   "cell_type": "code",
   "execution_count": null,
   "metadata": {},
   "outputs": [],
   "source": [
    "rrl_c = rrl.get_skycoord(distance=rrl.D_kpc*u.kpc)"
   ]
  },
  {
   "cell_type": "code",
   "execution_count": null,
   "metadata": {},
   "outputs": [],
   "source": [
    "rrl_c_fr = rrl_c.transform_to(fr)\n",
    "sky_mask = (np.abs(rrl_c_fr.lon) < 10*u.deg) & (np.abs(rrl_c_fr.lat) < 10*u.deg)\n",
    "pm_mask = np.sqrt((rrl_c.pm_ra_cosdec.value - (row['PMRA'][0]))**2 + \n",
    "                  (rrl_c.pm_dec.value - row['PMDEC'][0])**2) < 1.5\n",
    "dist_mask = (np.abs(rrl_c.distance - row['dist'][0]*u.kpc) < 5*u.kpc)\n",
    "# dist_mask = (np.abs(rrl_c.distance - 10*u.kpc) < 2*u.kpc)\n",
    "mask = sky_mask & dist_mask & pm_mask"
   ]
  },
  {
   "cell_type": "code",
   "execution_count": null,
   "metadata": {},
   "outputs": [],
   "source": [
    "fig, axes = plt.subplots(1, 2, figsize=(10, 5))\n",
    "\n",
    "ax = axes[0]\n",
    "ax.plot(rrl_c_fr.lon.degree[mask], \n",
    "        rrl_c_fr.lat.degree[mask],\n",
    "        ls='', marker='o', mew=0, ms=2., alpha=0.5)\n",
    "ax.set_xlim(-10, 10)\n",
    "ax.set_ylim(-10, 10)\n",
    "\n",
    "ax = axes[1]\n",
    "ax.plot(rrl_c.pm_ra_cosdec.value[mask], \n",
    "        rrl_c.pm_dec.value[mask],\n",
    "        ls='', marker='o', mew=0, ms=2., alpha=0.5)\n",
    "# ax.scatter(row['PMRA'], row['PMDEC'])"
   ]
  },
  {
   "cell_type": "code",
   "execution_count": null,
   "metadata": {},
   "outputs": [],
   "source": []
  },
  {
   "cell_type": "code",
   "execution_count": null,
   "metadata": {},
   "outputs": [],
   "source": []
  },
  {
   "cell_type": "code",
   "execution_count": null,
   "metadata": {},
   "outputs": [],
   "source": []
  }
 ],
 "metadata": {
  "kernelspec": {
   "display_name": "Python [conda env:root] *",
   "language": "python",
   "name": "conda-root-py"
  },
  "language_info": {
   "codemirror_mode": {
    "name": "ipython"
   },
   "file_extension": ".py",
   "mimetype": "text/x-python",
   "name": "python",
   "nbconvert_exporter": "python"
  }
 },
 "nbformat": 4,
 "nbformat_minor": 2
}
