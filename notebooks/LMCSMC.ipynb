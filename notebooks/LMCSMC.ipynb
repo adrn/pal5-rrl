{
 "cells": [
  {
   "cell_type": "code",
   "execution_count": null,
   "metadata": {},
   "outputs": [],
   "source": [
    "import astropy.coordinates as coord\n",
    "import astropy.table as at\n",
    "import astropy.units as u\n",
    "import matplotlib as mpl\n",
    "import matplotlib.pyplot as plt\n",
    "%matplotlib inline\n",
    "import numpy as np\n",
    "from scipy.ndimage import gaussian_filter\n",
    "\n",
    "# gala\n",
    "import gala.coordinates as gc\n",
    "import gala.dynamics as gd\n",
    "import gala.potential as gp\n",
    "from gala.units import galactic\n",
    "\n",
    "from pyia import GaiaData"
   ]
  },
  {
   "cell_type": "code",
   "execution_count": null,
   "metadata": {},
   "outputs": [],
   "source": [
    "galcen_frame = coord.Galactocentric(galcen_distance=8.1*u.kpc)"
   ]
  },
  {
   "cell_type": "code",
   "execution_count": null,
   "metadata": {},
   "outputs": [],
   "source": [
    "_tbl = at.Table.read('/Users/apricewhelan/data/GaiaDR2/DR2_AllRRL_outerjoin_PS1_EBV_nocontam.csv.gz', \n",
    "                     format='ascii.csv')\n",
    "_tbl.remove_column('epoch_photometry_url')\n",
    "\n",
    "g = GaiaData(_tbl)\n",
    "g = g[(g.pmra.value != 0.) & \n",
    "      (g.pmdec.value != 0.) & \n",
    "      (g.D_kpc > 0)]\n",
    "c = g.get_skycoord(distance=g.D_kpc*u.kpc)"
   ]
  },
  {
   "cell_type": "code",
   "execution_count": null,
   "metadata": {},
   "outputs": [],
   "source": [
    "galcen = c.transform_to(galcen_frame)"
   ]
  },
  {
   "cell_type": "code",
   "execution_count": null,
   "metadata": {},
   "outputs": [],
   "source": [
    "mag_c = c.transform_to(gc.MagellanicStream)\n",
    "mag_c = gc.reflex_correct(mag_c)"
   ]
  },
  {
   "cell_type": "code",
   "execution_count": null,
   "metadata": {},
   "outputs": [],
   "source": [
    "lmc_cen = coord.SkyCoord(ra=82.5, dec=-68.25, unit=u.deg)\n",
    "smc_cen = coord.SkyCoord(ra=16, dec=-73*u.deg, unit=u.deg)"
   ]
  },
  {
   "cell_type": "code",
   "execution_count": null,
   "metadata": {},
   "outputs": [],
   "source": [
    "_tbl = g.data.copy()\n",
    "_tbl['L'] = mag_c.L.degree\n",
    "_tbl['B'] = mag_c.B.degree\n",
    "_tbl['pmL'] = mag_c.pm_L_cosB.value\n",
    "_tbl['pmB'] = mag_c.pm_B.value\n",
    "_tbl.write('/Users/apricewhelan/Downloads/rrl_mag.fits')"
   ]
  },
  {
   "cell_type": "code",
   "execution_count": null,
   "metadata": {},
   "outputs": [],
   "source": [
    "fig, ax = plt.subplots(1, 1, figsize=(14, 4))\n",
    "\n",
    "lmc_mask = (mag_c.separation(lmc_cen) > 5*u.deg) & (mag_c.separation(smc_cen) > 2.5*u.deg)\n",
    "ax.plot(mag_c.L[lmc_mask], \n",
    "        mag_c.B[lmc_mask],\n",
    "        marker='o', ms=2.5, ls='none', mew=0, alpha=0.2)\n",
    "\n",
    "ax.set_xlim(180, -180)\n",
    "ax.set_ylim(-50, 50)"
   ]
  },
  {
   "cell_type": "code",
   "execution_count": null,
   "metadata": {},
   "outputs": [],
   "source": [
    "style = dict(marker='o', ms=2.5, ls='none', mew=0, alpha=0.2)\n",
    "\n",
    "vL = (mag_c.distance * mag_c.pm_L_cosB).to_value(u.km/u.s, u.dimensionless_angles())\n",
    "vB = (mag_c.distance * mag_c.pm_B).to_value(u.km/u.s, u.dimensionless_angles())\n",
    "\n",
    "mask = (lmc_mask &\n",
    "        (np.abs(mag_c.B) < 25*u.deg) & \n",
    "        (mag_c.distance > 15*u.kpc) & \n",
    "        (vL > 50.) & (np.abs(vB) < 250))\n",
    "\n",
    "antimask = (lmc_mask &\n",
    "            ( ((mag_c.B > 25*u.deg) & (mag_c.B < (45)*u.deg)) | \n",
    "              ((mag_c.B > -(45)*u.deg) & (mag_c.B < (-25)*u.deg))) &\n",
    "            (mag_c.distance > 15*u.kpc) & \n",
    "            (vL > 50.) & (np.abs(vB) < 250))\n",
    "\n",
    "fig, axes = plt.subplots(3, 1, figsize=(10, 12),\n",
    "                         sharex=True)\n",
    "\n",
    "ax = axes[0]\n",
    "ax.plot(mag_c.L.degree[mask], \n",
    "        vL[mask], **style)\n",
    "ax.set_ylim(-700, 700)\n",
    "ax.axhline(0.5)\n",
    "\n",
    "ax = axes[1]\n",
    "ax.plot(mag_c.L.degree[mask], \n",
    "        vB[mask], **style)\n",
    "ax.set_ylim(-700, 700)\n",
    "\n",
    "ax = axes[2]\n",
    "ax.plot(mag_c.L.degree[mask], mag_c.distance[mask], **style)\n",
    "ax.set_ylim(10, 75)\n",
    "\n",
    "ax.set_xlim(180, -180)"
   ]
  },
  {
   "cell_type": "code",
   "execution_count": null,
   "metadata": {},
   "outputs": [],
   "source": [
    "pw1_c = gc.reflex_correct(coord.SkyCoord(ra=178.8*u.deg, dec=-29.4*u.deg, distance=29*u.kpc,\n",
    "                                 pm_ra_cosdec=-0.56*u.mas/u.yr,\n",
    "                                 pm_dec=0.47*u.mas/u.yr,\n",
    "                                 radial_velocity=249.1*u.km/u.s).transform_to(gc.MagellanicStream))\n",
    "(pw1_c.pm_L_cosB * 29.*u.kpc).to(u.km/u.s, u.dimensionless_angles())"
   ]
  },
  {
   "cell_type": "code",
   "execution_count": null,
   "metadata": {},
   "outputs": [],
   "source": [
    "# style = dict(marker='o', ms=2.5, ls='none', mew=0, alpha=0.2)\n",
    "# mask = (lmc_mask &\n",
    "#         (np.abs(mag_c.B) < 25*u.deg) & \n",
    "#         (mag_c.distance > 15*u.kpc) & \n",
    "#         (np.abs(mag_c.pm_B) < 2*u.mas/u.yr) &\n",
    "#         (mag_c.pm_L_cosB > 0.4*u.mas/u.yr))\n",
    "\n",
    "# mask2 = (lmc_mask &\n",
    "#          (mag_c.distance > 20*u.kpc) & \n",
    "#          (np.abs(mag_c.pm_B) < 2*u.mas/u.yr) &\n",
    "#          (mag_c.pm_L_cosB > 0.4*u.mas/u.yr))\n",
    "\n",
    "# fig, axes = plt.subplots(3, 1, figsize=(10, 12),\n",
    "#                          sharex=True)\n",
    "\n",
    "# ax = axes[0]\n",
    "# ax.plot(mag_c.L.degree[mask], mag_c.pm_L_cosB[mask], **style)\n",
    "# ax.set_ylim(-6, 6)\n",
    "# ax.axhline(0.5)\n",
    "\n",
    "# ax = axes[1]\n",
    "# ax.plot(mag_c.L.degree[mask], mag_c.pm_B[mask], **style)\n",
    "# ax.set_ylim(-10, 10)\n",
    "\n",
    "# ax = axes[2]\n",
    "# ax.plot(mag_c.L.degree[mask], mag_c.distance[mask], **style)\n",
    "# ax.set_ylim(10, 75)\n",
    "\n",
    "# ax.set_xlim(180, -180)"
   ]
  },
  {
   "cell_type": "code",
   "execution_count": null,
   "metadata": {},
   "outputs": [],
   "source": [
    "fig, ax = plt.subplots(1, 1, figsize=(14, 4))\n",
    "\n",
    "ax.plot(mag_c.L[mask], mag_c.B[mask],\n",
    "        marker='o', ms=2.5, ls='none', mew=0, alpha=0.2)\n",
    "\n",
    "ax.plot(mag_c.L[antimask], mag_c.B[antimask],\n",
    "        marker='o', ms=2.5, ls='none', mew=0, alpha=0.2)\n",
    "\n",
    "ax.set_xlim(180, -180)\n",
    "ax.set_ylim(-50, 50)"
   ]
  },
  {
   "cell_type": "code",
   "execution_count": null,
   "metadata": {},
   "outputs": [],
   "source": [
    "fig, ax = plt.subplots(1, 1, figsize=(12, 12))\n",
    "\n",
    "# ax.plot(mag_c.L[mask], mag_c.B[mask],\n",
    "#         marker='o', ms=2.5, ls='none', mew=0, alpha=0.2)\n",
    "\n",
    "H,xe,ye = np.histogram2d(mag_c.L[mask], mag_c.B[mask],\n",
    "                         bins=np.arange(-30, 30+1e-5, 0.2))\n",
    "H = gaussian_filter(H, 1.5)\n",
    "ax.pcolormesh(xe, ye, np.arcsinh(H.T / 0.1))\n",
    "\n",
    "ax.set_xlim(30, -30)\n",
    "ax.set_ylim(-30, 30)"
   ]
  },
  {
   "cell_type": "code",
   "execution_count": null,
   "metadata": {},
   "outputs": [],
   "source": [
    "from gala.mpl_style import hesperia, laguna"
   ]
  },
  {
   "cell_type": "code",
   "execution_count": null,
   "metadata": {},
   "outputs": [],
   "source": [
    "fig, ax = plt.subplots(1, 1, figsize=(12, 4))\n",
    "\n",
    "ax.plot(mag_c.L[mask], mag_c.distance.kpc[mask],\n",
    "        marker='o', ls='none', alpha=0.5, ms=2.5)\n",
    "\n",
    "ax.set_xlim(180, -60)\n",
    "ax.set_ylim(15, 80)\n",
    "\n",
    "# ax.axhline(35., zorder=-100, color='tab:orange', alpha=0.1)\n",
    "\n",
    "ax.scatter(64, 29., color='tab:blue', zorder=-10)\n",
    "\n",
    "ax.set_xlabel(r'$L_{\\rm MS}$ [deg]')\n",
    "ax.set_ylabel(r'$d$ [kpc]')\n",
    "\n",
    "ax.xaxis.set_ticks(np.arange(-60, 180+1, 15))\n",
    "\n",
    "fig.set_facecolor('w')\n",
    "fig.tight_layout()\n",
    "\n",
    "fig.savefig('/Users/apricewhelan/Downloads/mag_L_dist_pts.png', dpi=250)"
   ]
  },
  {
   "cell_type": "code",
   "execution_count": null,
   "metadata": {},
   "outputs": [],
   "source": [
    "# fig, ax = plt.subplots(1, 1, figsize=(12, 6))\n",
    "\n",
    "# ax.plot(mag_c.L[mask], mag_c.distance.kpc[mask],\n",
    "#         marker='o', ls='none', alpha=0.5, ms=2.5)\n",
    "\n",
    "# ax.set_xlim(180, -60)\n",
    "# ax.set_ylim(15, 80)\n",
    "\n",
    "# ax.set_xlabel(r'$L_{\\rm MS}$ [deg]')\n",
    "# ax.set_ylabel(r'$d$ [kpc]')\n",
    "\n",
    "# fig.set_facecolor('w')\n",
    "# fig.tight_layout()\n",
    "\n",
    "# bins = np.arange(0, 70+1, 10)\n",
    "# for l, r in zip(bins[:-1], bins[1:]):\n",
    "#     _mask = (mag_c.L.degree > l) & (mag_c.L.degree <= (r+5)) & mask\n",
    "    \n",
    "#     plt.figure()\n",
    "#     plt.hist(mag_c.distance.value[_mask], bins=np.arange(15, 90+1, 2.5))\n",
    "#     ax.axvline(l)\n",
    "#     plt.xlim(15, 90)"
   ]
  },
  {
   "cell_type": "code",
   "execution_count": null,
   "metadata": {},
   "outputs": [],
   "source": [
    "fig, ax = plt.subplots(1, 1, figsize=(12, 6))\n",
    "\n",
    "H,xe,ye = np.histogram2d(mag_c.L[mask], mag_c.distance.kpc[mask],\n",
    "                         bins=(np.arange(-60, 150+1e-5, 0.2),\n",
    "                               np.arange(15, 100+1e-3, 0.2)))\n",
    "H = gaussian_filter(H, 4)\n",
    "ax.pcolormesh(xe, ye, np.arcsinh(H.T / 0.01),\n",
    "              cmap=hesperia)\n",
    "\n",
    "ax.set_xlim(xe.max(), xe.min())\n",
    "ax.set_ylim(ye.min(), ye.max())\n",
    "\n",
    "ax.set_xlabel(r'$L_{\\rm MS}$ [deg]')\n",
    "ax.set_ylabel(r'$d$ [kpc]')\n",
    "\n",
    "fig.set_facecolor('w')\n",
    "fig.tight_layout()\n",
    "\n",
    "# fig.savefig('/Users/apricewhelan/Downloads/mag_L_dist.png', dpi=250)"
   ]
  },
  {
   "cell_type": "code",
   "execution_count": null,
   "metadata": {},
   "outputs": [],
   "source": [
    "fig, ax = plt.subplots(1, 1, figsize=(12, 12))\n",
    "\n",
    "H,xe,ye = np.histogram2d(mag_c.L[mask], mag_c.distance.kpc[mask],\n",
    "                         bins=(np.arange(-30, 45+1e-5, 0.2),\n",
    "                               np.arange(25, 80+1e-3, 0.2)))\n",
    "H = gaussian_filter(H, 2.5)\n",
    "ax.pcolormesh(xe, ye, np.arcsinh(H.T / 0.05),\n",
    "              cmap=hesperia)\n",
    "\n",
    "ax.set_xlim(xe.max(), xe.min())\n",
    "ax.set_ylim(ye.min(), ye.max())\n",
    "\n",
    "ax.set_xlabel(r'$L_{\\rm MS}$ [deg]')\n",
    "ax.set_ylabel(r'$d$ [kpc]')\n",
    "\n",
    "fig.set_facecolor('w')\n",
    "fig.tight_layout()\n",
    "\n",
    "# fig.savefig('/Users/apricewhelan/Downloads/mag_L_dist_zoom.png', dpi=250)"
   ]
  },
  {
   "cell_type": "code",
   "execution_count": null,
   "metadata": {},
   "outputs": [],
   "source": [
    "fig, ax = plt.subplots(1, 1, figsize=(12, 6))\n",
    "\n",
    "H,xe,ye = np.histogram2d(mag_c.icrs.ra.degree[mask2], \n",
    "                         mag_c.icrs.dec[mask2],\n",
    "                         bins=(np.arange(0, 360+1e-5, 0.3),\n",
    "                               np.arange(-90, 60+1e-3, 0.3)))\n",
    "H = gaussian_filter(H, 2)\n",
    "ax.pcolormesh(xe, ye, np.arcsinh(H.T / 0.008),\n",
    "              cmap=hesperia)\n",
    "\n",
    "ax.set_xlim(xe.max(), xe.min())\n",
    "ax.set_ylim(ye.min(), ye.max())\n",
    "\n",
    "# ax.set_xlabel(r'$L_{\\rm MS}$ [deg]')\n",
    "# ax.set_ylabel(r'$d$ [kpc]')\n",
    "\n",
    "fig.set_facecolor('w')\n",
    "fig.tight_layout()"
   ]
  },
  {
   "cell_type": "code",
   "execution_count": null,
   "metadata": {},
   "outputs": [],
   "source": [
    "fig, ax = plt.subplots(1, 1, figsize=(12, 6))\n",
    "\n",
    "H,xe,ye = np.histogram2d(mag_c.galactic.l.wrap_at(180*u.deg).degree[mask2], \n",
    "                         mag_c.galactic.b[mask2],\n",
    "                         bins=(np.arange(-180, 180+1e-5, 0.3),\n",
    "                               np.arange(-90, 60+1e-3, 0.3)))\n",
    "H = gaussian_filter(H, 2)\n",
    "ax.pcolormesh(xe, ye, np.arcsinh(H.T / 0.008),\n",
    "              cmap=hesperia)\n",
    "\n",
    "ax.set_xlim(xe.max(), xe.min())\n",
    "ax.set_ylim(ye.min(), ye.max())\n",
    "\n",
    "# ax.set_xlabel(r'$L_{\\rm MS}$ [deg]')\n",
    "# ax.set_ylabel(r'$d$ [kpc]')\n",
    "\n",
    "fig.set_facecolor('w')\n",
    "fig.tight_layout()"
   ]
  },
  {
   "cell_type": "code",
   "execution_count": null,
   "metadata": {},
   "outputs": [],
   "source": []
  },
  {
   "cell_type": "code",
   "execution_count": null,
   "metadata": {},
   "outputs": [],
   "source": [
    "fig, axes = plt.subplots(2, 1, figsize=(12, 8), \n",
    "                         sharex=True, sharey=True)\n",
    "\n",
    "ax = axes[0]\n",
    "ax.plot(mag_c.L[mask], mag_c.distance.kpc[mask],\n",
    "        marker='o', ls='none', alpha=0.5, ms=2.5)\n",
    "\n",
    "ax.set_xlim(180, -60)\n",
    "ax.set_ylim(15, 80)\n",
    "\n",
    "# ax.axhline(35., zorder=-100, color='tab:orange', alpha=0.1)\n",
    "\n",
    "ax.scatter(64, 29., color='tab:blue', zorder=-10)\n",
    "\n",
    "\n",
    "ax = axes[1]\n",
    "ax.plot(mag_c.L[antimask], mag_c.distance.kpc[antimask],\n",
    "        marker='o', ls='none', alpha=0.5, ms=2.5)\n",
    "\n",
    "\n",
    "ax.set_xlabel(r'$L_{\\rm MS}$ [deg]')\n",
    "ax.set_ylabel(r'$d$ [kpc]')\n",
    "\n",
    "ax.xaxis.set_ticks(np.arange(-60, 180+1, 15))\n",
    "\n",
    "fig.set_facecolor('w')\n",
    "fig.tight_layout()\n",
    "\n",
    "# fig.savefig('/Users/apricewhelan/Downloads/mag_L_dist_pts.png', dpi=250)"
   ]
  }
 ],
 "metadata": {
  "kernelspec": {
   "display_name": "Python [conda env:root] *",
   "language": "python",
   "name": "conda-root-py"
  },
  "language_info": {
   "codemirror_mode": {
    "name": "ipython",
    "version": 3
   },
   "file_extension": ".py",
   "mimetype": "text/x-python",
   "name": "python",
   "nbconvert_exporter": "python",
   "pygments_lexer": "ipython3",
   "version": "3.7.3"
  },
  "toc": {
   "base_numbering": 1,
   "nav_menu": {},
   "number_sections": true,
   "sideBar": true,
   "skip_h1_title": false,
   "title_cell": "Table of Contents",
   "title_sidebar": "Contents",
   "toc_cell": false,
   "toc_position": {},
   "toc_section_display": true,
   "toc_window_display": false
  }
 },
 "nbformat": 4,
 "nbformat_minor": 2
}
